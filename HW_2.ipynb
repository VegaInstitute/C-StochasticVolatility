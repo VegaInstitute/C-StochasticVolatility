{
 "cells": [
  {
   "cell_type": "markdown",
   "metadata": {},
   "source": [
    "Stochastic Volatilty Models\n",
    "\n",
    "#### Home work 2\n",
    "\n",
    "---"
   ]
  },
  {
   "cell_type": "markdown",
   "metadata": {},
   "source": [
    "The file must be sent to **stoch-vol-24-fall@yandex.ru** with topic \"stoch-vol HW2\". \n",
    "\n",
    "WARNING: topic is important! Inbox will be filtered automatcally based on exact match. \n",
    "\n",
    "Please zip all files into one folder and rename it as \"SurnameName_HW2\" before sending.\n",
    "\n",
    "Deadline: 14th of December, 23:59.\n",
    "\n",
    "If you have any questions feel free to ask in Telegram https://t.me/v_antipov or https://t.me/igortao.\n",
    "\n",
    "Full name:\n",
    "\n",
    "Faculty:"
   ]
  },
  {
   "cell_type": "markdown",
   "metadata": {},
   "source": [
    "---"
   ]
  },
  {
   "cell_type": "markdown",
   "metadata": {},
   "source": [
    "### Problem 1 (30 points)"
   ]
  },
  {
   "cell_type": "markdown",
   "metadata": {},
   "source": [
    "Assume that there is no skew on the market, that is the implied volatility $\\sigma_{IV}(T, K)$ is a purely function of time to expiration $T$ and does not depend on strike $K$.\n",
    "\n",
    "**1**. 🧠 <span style=\"color:blue\">(20 points)</span>  Show that the local volatility function $\\sigma(T, S)$ from a Dupire local volatility model, calibrated to a given market, is related to the implied volatility $\\sigma_{IV}(T, K)$\n",
    "by the following equation \n",
    "\n",
    "$$\\sigma^{2}_{IV}(T, K) = \\dfrac{1}{T} \\int_{0}^{T} \\sigma^{2}(t, K) dt$$\n",
    "\n"
   ]
  },
  {
   "cell_type": "markdown",
   "metadata": {},
   "source": [
    "YOUR ANSWER HERE"
   ]
  },
  {
   "cell_type": "markdown",
   "metadata": {},
   "source": [
    "**2**. 💅 <span style=\"color:blue\">(10 points)</span> Is there any skew in local volatility function $\\sigma(t, K)$? Does it effectively depend on option's strike $K$? "
   ]
  },
  {
   "cell_type": "markdown",
   "metadata": {},
   "source": [
    "YOUR ANSWER HERE"
   ]
  },
  {
   "cell_type": "markdown",
   "metadata": {},
   "source": [
    "---"
   ]
  },
  {
   "cell_type": "markdown",
   "metadata": {},
   "source": [
    "### Problem 2 (30 points)"
   ]
  },
  {
   "cell_type": "markdown",
   "metadata": {},
   "source": [
    "Let $S$ be the underlying process from the CEV model with zero interest rate, that is satisfying the SDE\n",
    "\n",
    "$$dS_t = \\sigma S_t^{\\beta} dW_t, \\quad S_0 = s > 0.$$\n",
    "\n",
    "Show that the process $$X_t := \\frac{S^{2(1 - \\beta)}_t}{\\sigma^2 (1 - \\beta)^2}$$\n",
    "\n",
    "is a square of the Bessel proceess of dimension $\\delta = (1 - 2 \\beta) / (1 - \\beta)$, i.e. satisfies the SDE \n",
    "\n",
    "$$dX_t = \\delta dt + 2 \\sqrt{|X_t|} dW_t.$$"
   ]
  },
  {
   "cell_type": "markdown",
   "metadata": {},
   "source": [
    "YOUR ANSWER HERE"
   ]
  },
  {
   "cell_type": "markdown",
   "metadata": {},
   "source": [
    "---"
   ]
  },
  {
   "cell_type": "markdown",
   "metadata": {},
   "source": [
    "### Problem 3 (40 points)"
   ]
  },
  {
   "cell_type": "markdown",
   "metadata": {},
   "source": [
    "In Heston model under the martingale measure (the measure under which all underlying assets are martinagales w.r.t the money-market account $dB_t = B_t r dt$, $B_0 = 1$) the price process is given by a system of SDE \n",
    "\n",
    "$$dS_t = S_t (r dt + \\sqrt{V_t} d W^{S}_t), \\quad S_0 = s > 0,$$\n",
    "$$d V_t = \\kappa (\\bar V - V_t) dt + \\gamma \\sqrt{V_t} \\left[ \\rho d W^{S}_t + \\sqrt{1 - \\rho^2} d W^{V}_t \\right], \\quad V_0 = v > 0.$$\n",
    "\n",
    "Derive the model dynamics under the the stock-measure $\\mathbb{Q}^{S}$, under which all assets are martingales w.r.t. the stock price $S_t$. "
   ]
  },
  {
   "cell_type": "markdown",
   "metadata": {},
   "source": [
    "*Instructions:*"
   ]
  },
  {
   "cell_type": "markdown",
   "metadata": {},
   "source": [
    "**1**. 🧠 <span style=\"color:blue\">(10 points)</span> Define a process $Y_t := B_t/S_t$ and show that its dynamics are given by\n",
    "\n",
    "$$dY_t = Y_t (V_t dt - \\sqrt{V_t} dW^{S}_t), \\quad Y_0 = 1/S_0.$$"
   ]
  },
  {
   "cell_type": "markdown",
   "metadata": {},
   "source": [
    "YOUR ANSWER HERE"
   ]
  },
  {
   "cell_type": "markdown",
   "metadata": {},
   "source": [
    "**2**. 🧠 <span style=\"color:blue\">(10 points)</span> Define another Brownian motion, $\\tilde W^{S}_t$, for which process $Y_t$ becomes a martingale. "
   ]
  },
  {
   "cell_type": "markdown",
   "metadata": {},
   "source": [
    "YOUR ANSWER HERE"
   ]
  },
  {
   "cell_type": "markdown",
   "metadata": {},
   "source": [
    "**3**. 🧠 <span style=\"color:blue\">(10 points)</span> Use the derived measure transformation to show that the Heston model under the $\\mathbb{Q}^S$ measure reads\n",
    "\n",
    "$$dS_t = S_t ((r + V_t)dt - \\sqrt{V_t} d \\widetilde W^{S}_t), \\quad S_0 = s > 0,$$\n",
    "$$d V_t = \\kappa^{*} (\\bar V^{*} - V_t) dt + \\gamma \\sqrt{V_t} \\left[ - \\rho d \\widetilde W^{S}_t + \\sqrt{1 - \\rho^2} d W^{V}_t \\right], \\quad V_0 = v > 0,$$\n",
    "\n",
    "where $\\kappa^{*} = \\kappa - \\rho \\gamma$, $\\bar V^{*} = \\kappa \\bar V / (\\kappa - \\rho \\gamma)$. "
   ]
  },
  {
   "cell_type": "markdown",
   "metadata": {},
   "source": [
    "YOUR ANSWER HERE"
   ]
  },
  {
   "cell_type": "markdown",
   "metadata": {},
   "source": [
    "**4**. 🧠 <span style=\"color:blue\">(10 points)</span> Use the transform $d \\widehat  W^{S}_t = - d \\widetilde W^{S}_t$ to obtain the final equations. "
   ]
  },
  {
   "cell_type": "markdown",
   "metadata": {},
   "source": [
    "YOUR ANSWER HERE"
   ]
  }
 ],
 "metadata": {
  "kernelspec": {
   "display_name": "Python 3",
   "language": "python",
   "name": "python3"
  },
  "language_info": {
   "codemirror_mode": {
    "name": "ipython",
    "version": 3
   },
   "file_extension": ".py",
   "mimetype": "text/x-python",
   "name": "python",
   "nbconvert_exporter": "python",
   "pygments_lexer": "ipython3",
   "version": "3.8.5"
  },
  "orig_nbformat": 4
 },
 "nbformat": 4,
 "nbformat_minor": 2
}
