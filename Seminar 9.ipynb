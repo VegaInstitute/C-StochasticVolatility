{
 "cells": [
  {
   "cell_type": "markdown",
   "metadata": {},
   "source": [
    "# **Seminar 9: Heston Model (Part 3)**\n",
    "---"
   ]
  },
  {
   "cell_type": "code",
   "execution_count": 2,
   "metadata": {
    "tags": []
   },
   "outputs": [],
   "source": [
    "from dataclasses import dataclass, replace\n",
    "from copy import deepcopy\n",
    "from typing import Callable, Union\n",
    "import math\n",
    "\n",
    "import numpy as np\n",
    "import numpy.typing as npt\n",
    "import matplotlib as mpl\n",
    "import matplotlib.pyplot as plt\n",
    "from tqdm.auto import tqdm, trange"
   ]
  },
  {
   "cell_type": "markdown",
   "metadata": {},
   "source": [
    "### Heston model (reminder)"
   ]
  },
  {
   "cell_type": "markdown",
   "metadata": {},
   "source": [
    "$$dS_t = r S_t dt + \\sqrt{V_t} S_t  dW^{1}_t, \\qquad S_0 = s > 0,$$\n",
    "\n",
    "$$dV_t = \\kappa (\\theta - V_t) dt + \\sigma \\sqrt{V_t} dW^{2}_t, \\qquad V_0 = v > 0,$$\n",
    "\n",
    "$$dW_t^1 dW_t^2 = \\rho dt.$$"
   ]
  },
  {
   "cell_type": "markdown",
   "metadata": {},
   "source": [
    "# Pricing in Heston model"
   ]
  },
  {
   "cell_type": "markdown",
   "metadata": {},
   "source": [
    "The general formula for the call option price reads:\n",
    "$$\n",
    "C = SP_1 - Ke^{-rT}P_2,\n",
    "$$\n",
    "where $P_1$ and $P_2$ are the risk-neutral survival functions of the stock price.\n",
    "The bad news are we don't know them analytically.\n",
    "The good news are we know the characteristic function for many models:\n",
    "$$\n",
    "\\phi(t, x, v; u) = \\int\\limits_{-\\infty}^{\\infty} e^{iuy} p(t, x, v; y)\\,dy,\n",
    "$$\n",
    "where $t$ is the current time, \n",
    "$x$ — current log-stock-price, \n",
    "$v$ — initial variance,\n",
    "$y$ — final log-stock-price,\n",
    "$u$ — characteristic function variable."
   ]
  },
  {
   "cell_type": "markdown",
   "metadata": {
    "tags": []
   },
   "source": [
    "\\begin{align*}\n",
    "&\\phi_2(t,x,v;u) = \\exp\\bigl(C(T-t,u) + D(T-t,u)v + iu x\\bigr),\\\\\n",
    "&\\phi_1(t,x,v;u) = \\frac{\\phi(t,x,v;u-i)}{\\phi(t,x,v;-i)},\n",
    "\\end{align*}\n",
    "where\n",
    "\\begin{align*}\n",
    "&C(\\tau,u) = riu\\tau + \\frac{\\kappa\\theta}{\\sigma^2}\n",
    "  \\biggl(\n",
    "    (\\kappa- \\rho\\sigma iu - d(u))\\tau \n",
    "    - 2\\ln\\biggl(\\frac{1-g(u)e^{-d(u)\\tau}}{1-g(u)}\\biggr)\n",
    "  \\biggr),\\\\\n",
    "&D(\\tau,u) = \\frac{\\kappa - \\rho\\sigma i u - d(u)}{\\sigma^2}\n",
    "  \\biggl(\\frac{1-e^{-d(u)\\tau}}{1-g(u)e^{-d(u)\\tau}}\\biggr),\\\\\n",
    "&d(u)=\\sqrt{(\\rho\\sigma iu - \\kappa)^2 + \\sigma^2(iu + u^2)},\\quad\n",
    "  g(u) = \\frac{\\rho\\sigma iu- \\kappa +d(u)}{\\rho\\sigma iu - \\kappa -d(u)}.\n",
    "\\end{align*}"
   ]
  },
  {
   "cell_type": "code",
   "execution_count": 32,
   "metadata": {
    "tags": []
   },
   "outputs": [],
   "source": [
    "FloatArray = npt.NDArray[np.float_]\n",
    "Floats = Union[float, FloatArray]\n",
    "\n",
    "@dataclass\n",
    "class MarketState:\n",
    "    stock_price: Floats\n",
    "    interest_rate: Floats\n",
    "    time: Floats = 0\n",
    "\n",
    "@dataclass\n",
    "class HestonParams:\n",
    "    v: float # initial variance V_0\n",
    "    kappa: float # speed of mean-reversion \n",
    "    theta: float # long-term mean\n",
    "    sigma: float # vol of vol\n",
    "    rho: float # correlation between brownian motions\n",
    "    \n",
    "@dataclass\n",
    "class StockOption:\n",
    "    strike_price: Floats\n",
    "    expiration_time: Floats  # in years\n",
    "    is_call: Union[bool, npt.NDArray[np.bool_]] = None\n",
    "    \n",
    "    def __post_init__(self):\n",
    "        assert self.is_call is not None\n",
    "    \n",
    "    def payoff(self, stock_price: Floats) -> Floats:\n",
    "        call_payoff = np.maximum(0, stock_price - self.strike_price)\n",
    "        put_payoff = np.maximum(0, self.strike_price - stock_price)\n",
    "        return np.where(self.is_call, call_payoff, put_payoff)\n",
    "\n",
    "class CallStockOption(StockOption):\n",
    "    def __post_init__(self):\n",
    "        self.is_call = True\n",
    "        \n",
    "class PutStockOption(StockOption):\n",
    "    def __post_init__(self):\n",
    "        self.is_call = False"
   ]
  },
  {
   "cell_type": "code",
   "execution_count": 33,
   "metadata": {
    "tags": []
   },
   "outputs": [],
   "source": [
    "def heston_log_char_func(omega: Floats,\n",
    "                         dt: Floats,\n",
    "                         p: HestonParams) -> Floats:\n",
    "    \"\"\"Computes the logarithm og the Heston characteristic function assuming the stock\n",
    "    trades at 1 and no drift.\n",
    "\n",
    "    To recover the CF if the stock trades at s multiply it by the factor\n",
    "    exp(i omega (log(s) + \\mu dt)) the exponent of the result.\n",
    "\n",
    "    Args:\n",
    "        omega: frequency dual to the price domain\n",
    "        dt: time to evaluate CF at\n",
    "        p: model parameters\n",
    "\n",
    "    Returns:\n",
    "        float: log characteristic function value\n",
    "    \"\"\"\n",
    "    D = np.sqrt(\n",
    "        (p.kappa - 1j * p.rho * p.sigma * omega) ** 2\n",
    "        + (omega ** 2 + 1j * omega) * p.sigma ** 2\n",
    "    )\n",
    "    F = p.kappa - 1j * p.rho * p.sigma * omega - D\n",
    "    G = F / (F + 2 * D)\n",
    "    df = np.exp(-D * dt)  # discount factor\n",
    "    return (\n",
    "        p.v / p.sigma ** 2 * (1 - df) / (1 - G * df) * F\n",
    "        + p.kappa * p.theta / p.sigma ** 2 * (\n",
    "            dt * F - 2 * np.log((1 - G * df) / (1 - G))\n",
    "        )\n",
    "    )"
   ]
  },
  {
   "cell_type": "markdown",
   "metadata": {},
   "source": [
    "### One: Don't pick up the phone\n",
    "\n",
    "The first idea is to recover $P_1$ and $P_2$ using Gil-Pelaez theorem:\n",
    "$$\n",
    "P(t,x,v; y) = \\frac12 + \\frac1\\pi \\int_0^\\infty\n",
    "\\mathrm{Re}\\biggl(\\frac{e^{-iuy}\\phi(t,x,v;u)}{iu}\\biggr)\n",
    "du.\n",
    "$$\n",
    "It's not the best solutions due to the properties of the itegrand and the obsence of vectorization."
   ]
  },
  {
   "cell_type": "code",
   "execution_count": 36,
   "metadata": {
    "tags": []
   },
   "outputs": [
    {
     "data": {
      "image/png": "[encoded data removed]",
      "text/plain": [
       "<Figure size 640x480 with 1 Axes>"
      ]
     },
     "metadata": {},
     "output_type": "display_data"
    }
   ],
   "source": [
    "params = HestonParams(0.01, 0.01, 1, 0.2, -0.5)\n",
    "T = 1\n",
    "\n",
    "omega = np.linspace(0, 100, 100)\n",
    "lcf = heston_log_char_func(omega, T, params)\n",
    "\n",
    "_, ax = plt.subplots()\n",
    "for coeff in (1.0, 0.8, 0.6):\n",
    "    ax.plot(omega, np.real(np.exp(lcf + 1j * omega * np.log(coeff))), label=f\"{coeff}\")\n",
    "    \n",
    "ax.set_xlabel(\"$\\omega$\")\n",
    "ax.set_ylabel(\"CF value\")\n",
    "ax.legend(title=\"arg coeff\")\n",
    "plt.show()"
   ]
  },
  {
   "cell_type": "markdown",
   "metadata": {},
   "source": [
    "### Two: Don't let him in"
   ]
  },
  {
   "cell_type": "markdown",
   "metadata": {},
   "source": [
    "The second idea: don't use the Black-Scholes formula, but the second fundamental theorem:\n",
    "$$\n",
    "C \n",
    "= e^{-rT} \\mathbb{E} C(y) \n",
    "= e^{-rT} \\int p(t, x, v; y) C(y)\\,dy.\n",
    "$$\n",
    "In the frequency domain the expectation turns into the multiplication.\n",
    "We can:\n",
    "- compute the image of the payoff,\n",
    "- compute the image of the probability density (characteristic function),\n",
    "- compute the original of the product."
   ]
  },
  {
   "cell_type": "markdown",
   "metadata": {},
   "source": [
    "The straightforward implementation of this idea leads to the __Carr-Madan__ method."
   ]
  },
  {
   "cell_type": "markdown",
   "metadata": {},
   "source": [
    "### Three: Don't be his friend"
   ]
  },
  {
   "cell_type": "markdown",
   "metadata": {},
   "source": [
    "We can use some other transform instead if the Fourier one."
   ]
  },
  {
   "cell_type": "markdown",
   "metadata": {},
   "source": [
    "# COS-method"
   ]
  },
  {
   "cell_type": "markdown",
   "metadata": {},
   "source": [
    "Any function $f(x)$ on $[0,\\pi]$ can be evenly expanded on $[-\\pi, \\pi]$.\n",
    "The resulting Fourier series have non-zero weights only for $\\cos$, so the resulting series are called _cos-series_:\n",
    "$$\n",
    "f(x) = \\frac{A_0}{2} + \\sum_{n=1}^\\infty A_n \\cos(nx), \\qquad\n",
    "A_n = \\frac{2}{\\pi}\\int_0^\\pi f(x) \\cos(nx)\\,dx,\n",
    "$$\n",
    "For functions defined on any segment $[a, b]$ the change of variable is used:\n",
    "$$\n",
    "f(x) = \\frac{A_0}{2} \n",
    "  + \\sum_{n=1}^\\infty A_n \\cos\\left(n\\pi\\frac{x-a}{b-a}\\right), \\quad\n",
    "A_n = \\frac{2}{b-a}\\int_a^b f(x) \\cos\\left(n\\pi\\frac{x-a}{b-a}\\right) dx.\n",
    "$$"
   ]
  },
  {
   "cell_type": "markdown",
   "metadata": {},
   "source": [
    "We can rewrite:\n",
    "$$\n",
    "A_n = \\frac{2}{b-a}\n",
    "\\mathrm{Re}\\left\\{\n",
    "  \\tilde\\phi\\left(\\frac{n\\pi}{b-a}\\right)\\exp\\left(-i\\frac{na\\pi}{b-a}\\right)\n",
    "\\right\\},\n",
    "$$\n",
    "where\n",
    "$$\n",
    "\\tilde\\phi(u) = \\int_a^b e^{iux} f(x) dx.\n",
    "$$"
   ]
  },
  {
   "cell_type": "markdown",
   "metadata": {},
   "source": [
    "If $[a,b]$ is big enough, we can approximate\n",
    "$$\n",
    "A_n \\approx F_n := \\frac{2}{b-a}\n",
    "\\mathrm{Re}\\left\\{\n",
    "  \\phi\\left(\\frac{n\\pi}{b-a}\\right)\\exp\\left(-i\\frac{na\\pi}{b-a}\\right)\n",
    "\\right\\},\n",
    "$$\n",
    "where $\\phi(u)=\\int e^{iux}f(x)\\,dx$ is a characteristic function $f(x)$. "
   ]
  },
  {
   "cell_type": "markdown",
   "metadata": {},
   "source": [
    "#### Step 1\n",
    "\n",
    "Choose $[a,b]$ such that\n",
    "$$\n",
    "C := e^{-rT}\\int_{\\mathbb{R}} g(x) f(x) dx \n",
    "\\approx e^{-rT} \\int_{a}^{b} g(x) f(x) dx.\n",
    "$$"
   ]
  },
  {
   "cell_type": "markdown",
   "metadata": {},
   "source": [
    "#### Step 2\n",
    "\n",
    "Expand $f(x)$ and truncate the series:\n",
    "\\begin{multline*}\n",
    "C \\approx e^{-rT} \\int_a^b g(x) \\biggl(\n",
    "    \\frac{A_0}{2} + \\sum_{n=0}^\\infty A_n \\cos\\left(n\\pi\\frac{x-a}{b-a}\\right) \n",
    "  \\biggr) dx \\\\\n",
    "= e^{-rT} \\frac{b-a}{2} \\left(\n",
    "    \\frac{A_0V_0}{2} + \\sum_{n=1}^\\infty A_nV_n\n",
    "  \\right)\n",
    "\\approx e^{-rT} \\frac{b-a}{2} \\left(\n",
    "    \\frac{A_0V_0}{2} + \\sum_{n=1}^{N} A_nV_n\n",
    "  \\right),\n",
    "\\end{multline*}\n",
    "where\n",
    "$$\n",
    "V_n = \\frac{2}{b-a}\\int_a^b g(x) \\cos\\left(n\\pi\\frac{x-a}{b-a}\\right) dx.\n",
    "$$"
   ]
  },
  {
   "cell_type": "markdown",
   "metadata": {},
   "source": [
    "#### Step 3\n",
    "Approximate $A_n\\approx F_n$\n",
    "$$\n",
    "C \\approx e^{-rT} \\frac{b-a}{2} \n",
    "\\left(\\frac{F_0V_0}{2} + \\sum_{k=1}^N F_nV_n\\right),\n",
    "$$\n",
    "where\n",
    "$$\n",
    "F_n = \\frac{2}{b-a}\n",
    "\\mathrm{Re}\\left\\{\n",
    "  \\phi_T\\left(\\frac{n\\pi}{b-a}\\right)\\exp\\left(-i\\frac{na\\pi}{b-a}\\right)\n",
    "\\right\\}.\n",
    "$$"
   ]
  },
  {
   "cell_type": "markdown",
   "metadata": {},
   "source": [
    "### Result:\n",
    "\n",
    "$$\n",
    "C\\approx e^{-rT} \n",
    "\\left(\\frac{V_0}{2} \n",
    "  + \\sum_{n=1}^N \\mathrm{Re}\\left\\{ \n",
    "    \\phi_T\\left(\\frac{n\\pi}{b-a}\\right)e^{-in\\pi \\frac{x(K) - a}{b-a}} \n",
    "  \\right\\} V_n \n",
    "\\right),\n",
    "$$\n",
    "where $x(K) = \\log \\left(S_0 / K\\right)$.\n",
    "\n",
    "$V_n$ can be found analytically for some payoffs."
   ]
  },
  {
   "cell_type": "markdown",
   "metadata": {},
   "source": [
    "## Practical considerations"
   ]
  },
  {
   "cell_type": "markdown",
   "metadata": {},
   "source": [
    "### Vanilla options:\n",
    "\n",
    "1. Calculate put price, recover call by parity.\n",
    "1. Be carefull with the arguments outside the truncation range.\n",
    "1. How to choose the truncaction range?"
   ]
  },
  {
   "cell_type": "markdown",
   "metadata": {},
   "source": [
    "### 1. The put option coeffs:"
   ]
  },
  {
   "cell_type": "markdown",
   "metadata": {},
   "source": [
    "$$\n",
    "\\chi_{k}(c, d) = \\frac{1}{1 + \\left( \\frac{k\\pi}{b - a} \\right)^{2}} \\left[ \n",
    "\\cos \\left( k\\pi \\frac{d-a}{b-a} \\right) e^{d}\n",
    "- \\cos \\left( k\\pi \\frac{c-a}{b-a} \\right) e^{c}\n",
    "+ \\frac{k\\pi}{b-a} \\sin \\left( k\\pi \\frac{d-a}{b-a} \\right) e^{d}\n",
    "- \\frac{k\\pi}{b-a} \\sin \\left( k\\pi \\frac{c-a}{b-a} \\right) e^{c}\n",
    "\\right] \n",
    "$$\n",
    "\n",
    "$$\n",
    "\\psi_{k}(c, d) = \n",
    "\\begin{cases}\n",
    "\\left[ \\sin \\left( k\\pi \\dfrac{d-a}{b-a} \\right) - \\sin \\left( k\\pi \\dfrac{c-a}{b-a} \\right)\\right] \\frac{b-a}{k\\pi}, & k \\neq 0, \\\\\n",
    "d - c, & k = 0.\n",
    "\\end{cases}\n",
    "$$\n",
    "\n",
    "$$\n",
    "V_k^{put} = \\frac{2}{b - a} K \\left( -\\chi_k(a, 0) + \\psi_k(a, 0) \\right)\n",
    "$$"
   ]
  },
  {
   "cell_type": "markdown",
   "metadata": {},
   "source": [
    "__Note__: the coeffs are easily vectorized for different strikes."
   ]
  },
  {
   "cell_type": "markdown",
   "metadata": {},
   "source": [
    "### 2. Outside of the range integration\n",
    "\n",
    "Manually set the option price to its lower bound for options, where $x(K) \\notin [a, b]$."
   ]
  },
  {
   "cell_type": "markdown",
   "metadata": {},
   "source": [
    "### 3. How to chose $[a, b]$"
   ]
  },
  {
   "attachments": {},
   "cell_type": "markdown",
   "metadata": {},
   "source": [
    "The original proposition:\n",
    "$$\n",
    "[a, b] := \\left[ c_{1} - L \\sqrt{ c_{2} + \\sqrt{ c_{4} }},\\quad c_{1} + L \\sqrt{ c_{2} + \\sqrt{ c_{4} } } \\right] \\quad \\text{with}\\ L = 10,\n",
    "$$\n",
    "$$\n",
    "[a, b] := \\left[ c_{1} - L \\sqrt{ c_{2} + \\sqrt{ c_{4} + \\sqrt{ c_{6} } }},\\quad c_{1} + L \\sqrt{ c_{2} + \\sqrt{ c_{4} + \\sqrt{ c_{6} } } } \\right].\n",
    "$$\n",
    "where $c_i$ is an $i$-th cumulant of the $x(K)$.\n",
    "The first one is accurate for $T \\in [0.1, 10]$, the second one works for $T = 0.001$, but the higher order cumulants are hard to derive since it requires the differentiating of the logarighm of the CF:\n",
    "$$\n",
    "\\log \\mathbb{E} e^{tX} = \\sum_{n=1}^\\infty c_n \\frac{t^n}{n!}.\n",
    "$$"
   ]
  },
  {
   "cell_type": "markdown",
   "metadata": {},
   "source": [
    "The second option was proposed in paper [Precise option pricing by the COS method — How to choose the\n",
    "truncation range](https://www.sciencedirect.com/science/article/pii/S0096300322000212):\n",
    "\n",
    "$$\n",
    "a = -L + \\mathbb{E} \\log S_T, \\qquad a = L + \\mathbb{E} \\log S_T,\n",
    "\\qquad L = \\sqrt[n]{\\frac{2 \\mu_n K}{\\varepsilon}},\n",
    "$$\n",
    "where $\\mu_n$ is a log-price's $n$-th moment."
   ]
  },
  {
   "cell_type": "code",
   "execution_count": 27,
   "metadata": {
    "tags": []
   },
   "outputs": [],
   "source": [
    "def vanilla_put_cos_expansion_coeffs(a: Floats,\n",
    "                                     b: Floats,\n",
    "                                     k: int) -> Floats:\n",
    "    \"\"\"\n",
    "    Computes the cosine expansion coefficients of the vanilla put option\n",
    "    payoff.\n",
    "\n",
    "    Args:\n",
    "        a, b: integration bounds for the payoff function\n",
    "        k: number of coefficients\n",
    "\n",
    "    Returns:\n",
    "        vector of coefficients\n",
    "    \"\"\"\n",
    "\n",
    "    ks = np.arange(k)\n",
    "    a, b = a[..., None], b[..., None]  # new axis for coefficients\n",
    "    c, d = a, np.zeros_like(a)\n",
    "\n",
    "    c_frac = ks * np.pi * (c - a) / (b - a)\n",
    "    d_frac = ks * np.pi * (d - a) / (b - a)\n",
    "\n",
    "    chi = 1 / (1 + (ks * np.pi / (b - a)) ** 2) * (\n",
    "        np.cos(d_frac) * np.exp(d) - np.cos(c_frac) * np.exp(c)\n",
    "        + ks * np.pi / (b - a) * (\n",
    "            np.sin(d_frac) * np.exp(d) - np.sin(c_frac) * np.exp(c)\n",
    "        )\n",
    "    )\n",
    "\n",
    "    psi = (b - a) / ks[1:] / np.pi * (\n",
    "        np.sin(d_frac[..., 1:]) - np.sin(c_frac[..., 1:])\n",
    "    )\n",
    "    psi = np.insert(psi, 0, np.squeeze(d - c, axis=-1), axis=-1)\n",
    "\n",
    "    return 2 / (b - a) * (psi - chi)"
   ]
  },
  {
   "cell_type": "code",
   "execution_count": 78,
   "metadata": {
    "tags": []
   },
   "outputs": [],
   "source": [
    "def calc_trunc_range(eps: float, params: HestonParams, dt: float):\n",
    "    return np.array(10.)"
   ]
  },
  {
   "cell_type": "code",
   "execution_count": 79,
   "metadata": {
    "tags": []
   },
   "outputs": [],
   "source": [
    "def price(\n",
    "    option: StockOption,\n",
    "    ms: MarketState,\n",
    "    params: HestonParams,\n",
    "    eps: float = 1e-3,\n",
    "    n_points: int = 4096,\n",
    "):\n",
    "    dt = np.asarray(option.expiration_time - ms.time)\n",
    "    mean_log_s_t = ms.interest_rate * dt\n",
    "    trunc_range = calc_trunc_range(eps, params, dt)  # half of [a, b]\n",
    "\n",
    "    x = np.log(ms.stock_price / option.strike_price)\n",
    "    trunc_lb = mean_log_s_t - trunc_range\n",
    "    trunc_ub = mean_log_s_t + trunc_range\n",
    "    x_within_bounds = ((x >= trunc_lb) & (x <= trunc_ub))\n",
    "\n",
    "    # COS method\n",
    "    cos_cf = vanilla_put_cos_expansion_coeffs(trunc_lb, trunc_ub, n_points)\n",
    "    omega = (np.pi / (trunc_ub - trunc_lb))[..., None] * np.arange(n_points)\n",
    "\n",
    "    df = np.exp(-ms.interest_rate * dt)  # discount factor\n",
    "    lcf = (\n",
    "        heston_log_char_func(omega, dt[..., None], params)\n",
    "        + 1j * (x + mean_log_s_t - trunc_lb)[..., None] * omega\n",
    "    )\n",
    "    prod = np.exp(lcf) * cos_cf\n",
    "    prod[..., 0] /= 2\n",
    "\n",
    "    put_price = option.strike_price * df * np.real(prod.sum(-1))\n",
    "    put_price_lb = np.maximum(option.strike_price * df - ms.stock_price, 0.0)\n",
    "\n",
    "    call_price = put_price + ms.stock_price - option.strike_price * df\n",
    "    call_price_lb = np.maximum(ms.stock_price - option.strike_price * df, 0.0)\n",
    "\n",
    "    raw_price = np.where(option.is_call, call_price, put_price)\n",
    "    price_lb = np.where(option.is_call, call_price_lb, put_price_lb)\n",
    "\n",
    "    # ensure price fits the lower bound\n",
    "    # return raw_price\n",
    "    return np.maximum(\n",
    "        np.where(x_within_bounds, raw_price, price_lb),\n",
    "        price_lb,\n",
    "    )"
   ]
  },
  {
   "cell_type": "code",
   "execution_count": 82,
   "metadata": {
    "tags": []
   },
   "outputs": [],
   "source": [
    "strikes = np.linspace(40, 200, 50)\n",
    "time = 0.1\n",
    "\n",
    "calls = CallStockOption(strike_price=strikes,\n",
    "                        expiration_time=time)\n",
    "puts = PutStockOption(strike_price=strikes,\n",
    "                      expiration_time=time)\n",
    "\n",
    "ms = MarketState(stock_price=100, interest_rate=0.0)\n",
    "\n",
    "params = HestonParams(v=0.1, kappa=2, theta=0.1, sigma=0.7, rho=-0.2)"
   ]
  },
  {
   "cell_type": "code",
   "execution_count": 83,
   "metadata": {
    "tags": []
   },
   "outputs": [
    {
     "data": {
      "image/png": "[encoded data removed]",
      "text/plain": [
       "<Figure size 1500x800 with 2 Axes>"
      ]
     },
     "metadata": {},
     "output_type": "display_data"
    }
   ],
   "source": [
    "call_price = price(calls, ms, params)\n",
    "put_price = price(puts, ms, params)\n",
    "\n",
    "fig, (ax1, ax2) = plt.subplots(ncols=2, figsize=(15, 8))\n",
    "\n",
    "ax1.plot(strikes, call_price)\n",
    "ax1.set_title('Call option price')\n",
    "ax1.set_xlabel('Strike price, $')\n",
    "ax1.set_ylabel('Option price, $')\n",
    "\n",
    "ax2.plot(strikes, put_price)\n",
    "ax2.set_title('Put option price')\n",
    "ax2.set_xlabel('Strike price, $')\n",
    "ax2.set_ylabel('Option price, $')\n",
    "\n",
    "plt.show()"
   ]
  },
  {
   "cell_type": "markdown",
   "metadata": {},
   "source": []
  }
 ],
 "metadata": {
  "kernelspec": {
   "display_name": "py310",
   "language": "python",
   "name": "py310"
  },
  "language_info": {
   "codemirror_mode": {
    "name": "ipython",
    "version": 3
   },
   "file_extension": ".py",
   "mimetype": "text/x-python",
   "name": "python",
   "nbconvert_exporter": "python",
   "pygments_lexer": "ipython3",
   "version": "3.10.13"
  }
 },
 "nbformat": 4,
 "nbformat_minor": 4
}
