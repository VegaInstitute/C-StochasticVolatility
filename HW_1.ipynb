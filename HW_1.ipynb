{
 "cells": [
  {
   "cell_type": "markdown",
   "metadata": {},
   "source": [
    "Stochastic Volatilty Models\n",
    "\n",
    "#### Home work 1\n",
    "\n",
    "---"
   ]
  },
  {
   "cell_type": "markdown",
   "metadata": {},
   "source": [
    "The file must be sent to **stoch-vol-24-fall@yandex.ru** with topic \"stoch-vol HW1\". \n",
    "\n",
    "WARNING: topic is important! Inbox will be filtered automatcally based on exact match. \n",
    "\n",
    "Please zip all files into one folder and rename it as \"SurnameName_HW1\" before sending.\n",
    "\n",
    "Deadline: 7th of October, 23:59.\n",
    "\n",
    "If you have any questions feel free to ask in Telegram @v_antipov or @igortao.\n",
    "\n",
    "Full name:\n",
    "\n",
    "Faculty:"
   ]
  },
  {
   "cell_type": "markdown",
   "metadata": {},
   "source": [
    "---"
   ]
  },
  {
   "cell_type": "markdown",
   "metadata": {},
   "source": [
    "### Problem 1 (30 points)"
   ]
  },
  {
   "cell_type": "markdown",
   "metadata": {},
   "source": [
    "**1**. 💅 <span style=\"color:blue\">(10 points)</span>  Calculate and plot **put** option prices in Black-Scholes model as functions of the underlying asset price for different **exercise times** and different **volatilities**. Use parameters \n",
    "\n",
    "$$K = 1, \\quad r = 0, \\quad S \\in [0.5, 1.5],$$\n",
    "\n",
    "and $T \\in \\{0,\\ \\frac{1}{4},\\ \\frac{1}{2},\\ \\frac{3}{4},\\ 1\\}$ (time is measured in years) and $\\sigma \\in \\{0.1, \\ 0.2, \\ 0.3\\}$.\n",
    "\n",
    "*Note: the answer should contain three plots (for each volatility $\\sigma$), each of which shows option prices for different excercise times $T$.*"
   ]
  },
  {
   "cell_type": "code",
   "execution_count": 2,
   "metadata": {},
   "outputs": [],
   "source": [
    "### YOUR CODE HERE"
   ]
  },
  {
   "cell_type": "markdown",
   "metadata": {},
   "source": [
    "**2**. 💅 <span style=\"color:blue\">(5 points)</span>  What kind of dependence on the parameters of put option price do you observe? How does the price of a put option change with changes in volatility, time to expiration? Why? Provide the intuition. "
   ]
  },
  {
   "cell_type": "markdown",
   "metadata": {},
   "source": [
    "YOUR ANSWER HERE"
   ]
  },
  {
   "cell_type": "markdown",
   "metadata": {},
   "source": [
    "**3**. 💅 <span style=\"color:blue\">(15 points)</span> Replicate considered put option using the portfolio rebalanced $n$ times (i.e. every $dt = T/n$ units of time). Using simulations, estimate the distribution of the replication error.\n",
    "\n",
    "\n",
    "    1) Generate m random trajectories of price process trajectories on the segment [0,t] with a step dt = T/n.\n",
    "\n",
    "    2) For each trajectory at each moment of time, find a replicating portfolio. Assume that the initial value of the portfolio is equal to the option price.\n",
    "\n",
    "    3) For each trajectory, calculate the difference between the value of the replicating portfolio at time T and the payout to be made on the option.\n",
    "\n",
    "    4) Display the distribution of the obtained differences in the form of a histogram.\n"
   ]
  },
  {
   "cell_type": "markdown",
   "metadata": {},
   "source": [
    "*Note: use $m = 2^{10} - 1$ and $n$ = 123*. "
   ]
  },
  {
   "cell_type": "code",
   "execution_count": 5,
   "metadata": {},
   "outputs": [],
   "source": [
    "### YOUR CODE HERE"
   ]
  },
  {
   "cell_type": "markdown",
   "metadata": {},
   "source": [
    "---"
   ]
  },
  {
   "cell_type": "markdown",
   "metadata": {},
   "source": [
    "### Problem 2 (50 points)"
   ]
  },
  {
   "cell_type": "markdown",
   "metadata": {},
   "source": [
    "Consider a simplified Stein-Stein stochastic volatility model, given by processes $(B_t, S_t, V_t)$ on $(\\Omega, \\mathcal F, (\\mathcal F)_{t \\geq 0}, \\mathbb{P})$, with $\\mathbb{P}$ being a **real-world** probability measure,\n",
    "\n",
    "$$dB_t = rB_t dt, \\quad B_0 = b,$$\n",
    "$$dS_t = \\mu S_t dt + V_t S_t dW^{1}_t, \\quad S_0 = s,$$\n",
    "$$dV_t = \\kappa(\\theta - V_t)dt + \\sigma dW^{2}_t, \\quad V_0 = v,$$\n",
    "where $W^{1}_t$ and $W^{2}_t$ are independent Brownian motions on $\\mathbb{P}$.\n",
    "\n",
    "\n",
    "The process $S_t$ describes the evolution of the price of a stock continuously paying dividends with rate $q$. The process $B_t$ is a money market account with risk-free interest rate $r$. \n",
    "\n"
   ]
  },
  {
   "cell_type": "markdown",
   "metadata": {},
   "source": [
    "**1**. 🧠 <span style=\"color:blue\">(20 points)</span> Does there exist an equivalent to $\\mathbb{P}$ (local) martingale measure $\\mathbb{Q}$? If yes, find the Radom-Nikodym derivative $d\\mathbb{P}/d\\mathbb{Q}$. Is the market consisting of $(B_t, S_t)$ free of arbitrage? \n",
    "\n",
    "*Hint: use Girsanov's theorem.*\n"
   ]
  },
  {
   "cell_type": "markdown",
   "metadata": {},
   "source": [
    "YOUR ANSWER HERE"
   ]
  },
  {
   "cell_type": "markdown",
   "metadata": {},
   "source": [
    "**2**. 🧠 <span style=\"color:blue\">(30 points)</span> Assume that the market consists of $(B_t, S_t)$, meaning that we can buy/sell any amount of corresponding risk-free and risky assets. Consider an arbitrary bounded contingent claim paying $g(S_T)$ at moment $T$. Can we replicate such claim on a given market? If no, which conditions on model parameters, such as volatility of volatility $\\sigma$, speed of mean reversion $\\kappa$, etc., should we impose to guarantee the replication? What can we say about the completeness of the Stein-Stein model? \n",
    "\n",
    "*Hint: use Ito's formula for the price of contingent claim.*"
   ]
  },
  {
   "cell_type": "markdown",
   "metadata": {},
   "source": [
    "YOUR ANSWER HERE"
   ]
  },
  {
   "cell_type": "markdown",
   "metadata": {},
   "source": [
    "---"
   ]
  },
  {
   "cell_type": "markdown",
   "metadata": {},
   "source": [
    "### Problem 3 (20 points)"
   ]
  },
  {
   "cell_type": "markdown",
   "metadata": {},
   "source": [
    "🧠 <span style=\"color:blue\">(20 points)</span> Show that if $X_t$ is a local martingale, bounded from below, then it is a supermartingale. "
   ]
  },
  {
   "cell_type": "markdown",
   "metadata": {},
   "source": [
    "YOUR ANSWER HERE"
   ]
  },
  {
   "cell_type": "markdown",
   "metadata": {},
   "source": [
    "---"
   ]
  }
 ],
 "metadata": {
  "kernelspec": {
   "display_name": "Python 3 (ipykernel)",
   "language": "python",
   "name": "python3"
  },
  "language_info": {
   "codemirror_mode": {
    "name": "ipython",
    "version": 3
   },
   "file_extension": ".py",
   "mimetype": "text/x-python",
   "name": "python",
   "nbconvert_exporter": "python",
   "pygments_lexer": "ipython3",
   "version": "3.8.5"
  }
 },
 "nbformat": 4,
 "nbformat_minor": 4
}
