{
 "cells": [
  {
   "cell_type": "markdown",
   "metadata": {},
   "source": [
    "## *Seminar 3: Theoretical minimum*"
   ]
  },
  {
   "cell_type": "markdown",
   "metadata": {},
   "source": [
    "### 1. Main definitions"
   ]
  },
  {
   "cell_type": "markdown",
   "metadata": {},
   "source": [
    " <u> **Definition 1.1** </u> A **random process** $X$ is a family of random variables $X_t(\\omega)$, $t\\in[0,T]$, defined on the same probability space.\n",
    "\n",
    "We have finite $T$, but in general one can consider processes on $[0,\\infty)$.\n",
    "\n",
    "\n",
    "\n",
    " <u> **Definition 1.2** </u> A process $X$ is called **continuous**, if for almost each $\\omega$ its trajectory $t\\mapsto X_t(\\omega)$ is a continuous function.\n",
    "\n",
    " <u> **Definition 1.3** </u> A process $X$ is called **measurable**, if the mapping $X(\\omega,t) = X_t(\\omega)$ from $\\Omega\\times\\R_+$ to $\\mathbb{R}$ is $\\mathcal{F} \\times B([0,T])$-measurable.\n",
    "\n",
    "  <u> **Definition 1.4** </u> A process $X$ is called **adapted**, if $X_t$ is $\\mathcal{F}_t$-measurable for each $t\\in[0,T]$.\n",
    "\n",
    "  Further we assume that all processes are measurable and adapted. For more information about different classes of random processes see section 4. \n"
   ]
  },
  {
   "cell_type": "markdown",
   "metadata": {},
   "source": [
    "  <u> **Definition 1.5** </u> A process $X$ is called a **martingale** with respect to a filtration $\\mathcal{F}$ if\n",
    "\n",
    "1. $X$ is adapted to $\\mathcal{F}$;\n",
    "2. $ E|X_t| < \\infty$ for any $t\\in[0,T]$;\n",
    "3. $ E(X_t | \\mathcal{F}_s) = X_s$ for any $0\\le s\\le t \\le T$.\n",
    "\n",
    "In a similar way we define **submartingales** ($\\geq$) and **supermartingales** ($\\leq$)."
   ]
  },
  {
   "cell_type": "markdown",
   "metadata": {},
   "source": [
    " <u> **Definition 1.6** </u> A process $X$ has **independent increments** with respect to a filtration $\\mathcal{F}$ if $(X_t-X_s)$ and $\\mathcal{F}_s$ are independent for all $0\\leq s \\leq t\\leq T$.\n",
    "\n",
    "\n",
    " <u> **Proposition 1.1** </u> If $X$ is adapted to $\\mathcal{F}$, has independent increments and $E X_t = c$ for all $t$, then $X_t$ is a martingale.\n",
    " \n",
    " <u> *Proof idea:*</u>  $E(X_t - X_s | \\mathcal{F}_s) = E(X_t - X_s) = 0$."
   ]
  },
  {
   "cell_type": "markdown",
   "metadata": {},
   "source": [
    "### 2. Brownian motion"
   ]
  },
  {
   "cell_type": "markdown",
   "metadata": {},
   "source": [
    " <u> **Definition 2.1** </u> A **Brownian motion** (or **Wiener process**) with respect to a filtration $\\mathcal{F}$ is an adapted process $W$ such that\n",
    "\n",
    "1. $W_0 = 0$,\n",
    "2. $W$ has independent increments with respect to $\\mathcal{F}$,\n",
    "3. $W_t - W_s$ has normal distribution with mean 0 and variance $t-s$ for all $s\\le t$;\n",
    "4. $W$ has continuous trajectories with probability 1.\n",
    "\n",
    "When a filtration in not specified, we mean that $W$ is a Brownian motion with respect to its natural filtration.\n",
    "\n",
    "From Kolmogorov's continuity theorem, it can be proved that if a process $W$ satisfies properties 1--3, then it has a continuous modification.\n",
    "Hence, property 4 is sometimes not included in the definition.\n"
   ]
  },
  {
   "cell_type": "markdown",
   "metadata": {},
   "source": [
    "**Properties of trajectories of a Brownian motion**\n",
    "\n",
    "A) It is well-known that with probability 1 trajectories of a Brownian motion\n",
    "\n",
    "1. are not differentiable at any point $t\\ge 0$;\n",
    "2. do not have points of increase of decrease.\n",
    "3. have unbounded variation on any interval $[a,b]$, where $b>a$;\n",
    "\n",
    "\n",
    "B) Let $W$ be a Brownian motion. Then for $0\\le t_1<t_2<\\dots<t_n$ the random vector $(W_{t_1},\\dots,W_{t_n})$ has the Gaussian distribution with \n",
    "$$E W_{t_i} = 0, \\qquad cov(W_{t_i},W_{t_j}) = \\min(t_i,t_j).$$"
   ]
  },
  {
   "cell_type": "markdown",
   "metadata": {},
   "source": [
    "<u> **Definition 2.2** </u> The **geometric Brownian motion** with drift $\\mu$ and volatility $\\sigma$ is the process\n",
    "$$\n",
    "S_t = S_0 \\exp \\{ \\sigma W_t + (\\mu-\\frac{\\sigma^2}{2})t \\}, \\qquad S_0>0.\n",
    "$$\n",
    "\n",
    " <u> **Proposition 2.1** </u> If $\\mu=0$, then $S_t$ is a martingale. If $\\mu>0$, then $S_t$ is a submartingale. If $\\mu<0$, then $S_t$ is a supermartingale."
   ]
  },
  {
   "cell_type": "markdown",
   "metadata": {},
   "source": [
    "### 3. Ito's formula"
   ]
  },
  {
   "cell_type": "markdown",
   "metadata": {},
   "source": [
    "An Ito process is a continuous adapted process which can be represented in the form \n",
    "\n",
    "$$X_t = x + \\int_{0}^{t} G_s ds + \\int_{0}^{t} H_s dW_S, \\qquad t \\in [ 0, T],$$\n",
    "\n",
    "where $G, H$ are measurable adapted processes such that \n",
    "\n",
    "$$\\int_{0}^{T} |G_t| dt < \\infty, \\qquad \\int_{0}^{T} H_t^2 dt < \\infty, \\qquad a.s.$$\n",
    "\n",
    "In the differential form, it is writen as \n",
    "\n",
    "$$dX_t = G_t dt + H_t dW_t, \\qquad X_0 = x.$$"
   ]
  },
  {
   "cell_type": "markdown",
   "metadata": {},
   "source": [
    " <u> **Theorem 3.1** </u>\n",
    "\n",
    "Let $X_t$ be an Ito process, $f(t, x) \\in C^{1, 2}$. Then \n",
    "\n",
    "\n",
    "$$\n",
    "\\boxed{\n",
    "\\begin{align*}\n",
    "df(t, X_t) &= f'_t(t, X_t) dt + f'_x(t, X_t) dX_t + \\frac{1}{2} f''_{xx}(t, X_t) (dX_t)^2 \\\\\n",
    "&= \\left( f'_t(t, X_t) + f'_x(t, X_t) G_t + \\frac{1}{2} f''_{xx}(t, X_t) H_t^2 \\right) dt + f'_x(t, X_t) H_t dW_t,\n",
    "\\end{align*}\n",
    "}\n",
    "$$\n",
    "\n",
    "where $(dX_t)^2 = H_t^2 dt$.\n",
    "\n",
    "In integral represenation, the formula is \n",
    "\n",
    "$$\n",
    "\\boxed{\n",
    "\\begin{align*}\n",
    "f(t, X_t) &= f(0, X_0) + \\int_{0}^{t} \\left(f'_t(t, X_t) + f'_x(t, X_t) G_t + \\frac{1}{2} f''_{xx}(t, X_t) H_t^2 \\right) dt + \\int_{0}^{t} f'_x(t, X_t) H_t dW_t.\n",
    "\\end{align*}\n",
    "}\n",
    "$$"
   ]
  },
  {
   "cell_type": "markdown",
   "metadata": {},
   "source": [
    "**Examples**"
   ]
  },
  {
   "cell_type": "markdown",
   "metadata": {},
   "source": [
    "1. The **geometric Brownian motion** process is defined as\n",
    "\n",
    "$$\n",
    "X_t = x_0 \\exp \\{ (\\mu - \\sigma^2 / 2) t + \\sigma W_t\\}, \\qquad x_0>0.\n",
    "$$\n",
    "Applying Ito's formula to $f(t, W_t)$,\n",
    "$$\n",
    "f(t,y) = x_0 \\exp \\{ (\\mu - \\sigma^2 / 2) t + \\sigma y\\}\n",
    "$$\n",
    "we see that $X_t$ satisfies the equation\n",
    "$$\n",
    "dX_t = \\mu X_t dt + \\sigma X_t dW_t, \\qquad X_0=x_0.\n",
    "$$\n",
    "\n",
    "In finance it is used in Black-Scholes model."
   ]
  },
  {
   "cell_type": "markdown",
   "metadata": {},
   "source": [
    "2. The **Ornstein-Uhlenbeck** process is defined as\n",
    "\n",
    "$$\n",
    "X_t = e^{-\\mu t}x_0 + \\sigma e^{-\\mu t}\\int_0^t e^{\\mu s} dW_s, \\qquad x_0>0.\n",
    "$$\n",
    "Applying Ito's formula to $f(t,Y_t)$,\n",
    "$$\n",
    "f(t,y) = e^{-\\mu t}x_0 + \\sigma e^{-\\mu t} y, \\qquad\n",
    "dY_t = e^{\\mu t} dW_t, \\quad Y_0=0,\n",
    "$$\n",
    "we see that $X_t$ satisfies the equation\n",
    "$$\n",
    "dX_t = -\\mu X_t dt + \\sigma dW_t, \\qquad X_0=x_0.\n",
    "$$\n",
    "\n",
    "In finance it can be used, for instance, to model interest rates (the Vasicek model)."
   ]
  },
  {
   "cell_type": "markdown",
   "metadata": {},
   "source": [
    "### 4. Girsanov's theorem"
   ]
  },
  {
   "cell_type": "markdown",
   "metadata": {},
   "source": [
    "In probability theory, the Girsanov theorem tells how stochastic processes change under changes in measure."
   ]
  },
  {
   "cell_type": "markdown",
   "metadata": {},
   "source": [
    " <u> **Theorem 4.1** </u>\n",
    "\n",
    "Let $\\varphi_s = (\\varphi^{1}_s, \\dots, \\varphi^{n}_2)$ be a vector of adapted random processes under probability measure $\\mathbb{P}$, such that $\\int_{0}^{T} \\| \\varphi_s\\|^2 ds < \\infty$ almost sure. \n",
    "\n",
    "Consider\n",
    "\n",
    "$$L_t := \\exp \\left\\{ \\int_{0}^{t} \\varphi_s dW_s - \\frac{1}{2} \\int_{0}^{t} \\| \\varphi_s\\|^2 ds\\right\\},$$\n",
    "\n",
    "where $W_s = (W^{1}_s, \\dots, W^{n}_s)$ is a vector of indepednent Brownian motions on $\\mathbb{P}$.\n",
    "\n",
    "Assume that $L_t$ is a martingale (for instace, the Novikov's condition $\\mathbb{E} \\exp\\left\\{ \\frac{1}{2} \\int_{0}^{t} \\| \\varphi_s\\|^2 ds\\right\\} < \\infty$ is satisfied). \n",
    "\n",
    "Then we may define a random measure $\\mathbb{Q}$, given by \n",
    "\n",
    "$$\\mathbb{Q}(A) := \\int_{A} L_T(\\omega) \\mathbb{P}(d \\omega), \\qquad L_T = d\\mathbb{Q} / d\\mathbb{P}.$$\n",
    "\n",
    "Then\n",
    "\n",
    "$$\\widetilde W_t = W_t - \\int_{0}^{t} \\varphi_s ds$$\n",
    "\n",
    "is a Brownian motion with respect to $\\mathbb{Q}$.\n"
   ]
  },
  {
   "cell_type": "markdown",
   "metadata": {},
   "source": [
    "**Example**\n",
    "\n",
    "Consider a Black-Scholes model, where the asset price under the real worl probability measure $\\mathbb{P}$ is given by a SDE\n",
    "\n",
    "$$dS_t = \\mu S_tdt + \\sigma S_t dW_t,$$\n",
    "\n",
    "with the solution \n",
    "$$S_t = S_0 \\exp \\left\\{ (\\mu - \\sigma^2/2)t + \\sigma W_t \\right\\}.$$\n",
    "\n",
    "Let $\\varphi_s = \\dfrac{r - \\mu}{\\sigma}$ and $\\widetilde W_t = W_t - \\int_{0}^{t} \\varphi_s ds$. Then we get that \n",
    "\n",
    "$$dS_t = r S_t dt + \\sigma S_t d \\widetilde W_t,$$\n",
    "\n",
    "where $\\widetilde W_t$ is by Girsanov's theorem a Brownian motion under probability measure $\\mathbb{Q}$ given by $L_T = d\\mathbb{Q}/d\\mathbb{P}$, where \n",
    "\n",
    "$$L_t = \\exp \\left\\{ \\int_{0}^{t} \\dfrac{r - \\mu}{\\sigma} dW_s - \\dfrac{1}{2} \\int_{0}^{t} \\left( \\dfrac{r - \\mu}{\\sigma}\\right)^2 ds\\right\\} =  \\exp \\left\\{ \\dfrac{r - \\mu}{\\sigma} W_t - \\dfrac{1}{2} \\left( \\dfrac{r - \\mu}{\\sigma}\\right)^2 t \\right\\}.$$\n",
    "\n",
    "Obviosuly, Novikov's condition \n",
    "\n",
    "$$\\mathbb{E} \\exp\\left\\{ \\frac{1}{2} \\int_{0}^{t} \\| \\varphi_s\\|^2 ds\\right\\} = \\mathbb{E} \\exp\\left\\{ \\frac{1}{2}  \\left(\\dfrac{r - \\mu}{\\sigma}\\right)^2 t\\right\\} < \\infty$$\n",
    "\n",
    "is satisfied.\n",
    "\n",
    "Finally, we get that $S^{*}_t := e^{-rt}S_t$ is a martingale and satisfies SDE\n",
    "\n",
    "$$dS^{*}_t = \\sigma S^{*}_t d \\widetilde W_t$$\n",
    "\n",
    "under measure $\\mathbb{Q}$, so this measure is indeed an equivalent martingale measure. "
   ]
  },
  {
   "cell_type": "markdown",
   "metadata": {},
   "source": [
    "### 5. Arbitrage"
   ]
  },
  {
   "cell_type": "markdown",
   "metadata": {},
   "source": [
    "Assume that on a filtered probaiblity space $(\\Omega, \\mathcal{F}, (\\mathcal{F_t})_{t=0}^{T}, P)$ we observe a market consisting of $1$ riskless asset and $N$ risky assets:\n",
    "\n",
    "$$dB_t = r_t B_t dt,  \\qquad  B_t = B_0 \\exp \\{ \\int_{0}^{t} r_u du\\},$$\n",
    "\n",
    "$$dS_t^n = \\mu_t^n dt + \\sum_{i=1}^{d} \\sigma_t^{ni} dW_t^i,$$\n",
    "\n",
    "where processes $r_t, \\mu_t^n, \\sigma^{ni}_t$ are well-defined and risky assets $S_t^n$ continuously pay dividends with rate $q_t^n$. "
   ]
  },
  {
   "cell_type": "markdown",
   "metadata": {},
   "source": [
    "<u> **Definition 5.1** </u> \n",
    "\n",
    "A **trading strategy** is a measurable adapted $\\pi_t = (G_t, H_t^1, \\dots, H_t^N)$ such that the following integrals are well defined \n",
    "\n",
    "$$\\int_{0}^{t} G_u dB_u, \\qquad \\int_{0}^{t} H_u^n dS_u^n, \\qquad \\int_{0}^{t} H_u^n q_u^n S_u^n du, \\qquad t \\in [0, T].$$\n",
    "\n",
    "The **value of the portfolio** is the process \n",
    "\n",
    "$$V_t = G_tB_t + \\sum_{n=1}^{d} H_t^n S_t^n.$$\n",
    "\n",
    "A strategy is called **self-financing**, if\n",
    "\n",
    "$$dV_t = G_t dB_t + \\sum_{n=1}^{N} H_t^n dS_t^n + \\sum_{n=1}^{N} H_t^n q_t^n S_t^n dt.$$"
   ]
  },
  {
   "cell_type": "markdown",
   "metadata": {},
   "source": [
    "<u> **Definition 5.2** </u> \n",
    "\n",
    "The **no-arbitrage condition (NA)** means that there is no strategy $\\pi_t$ such that \n",
    "\n",
    "1. $V_0^{\\pi} = 0$ a.s.,\n",
    "2. $V_T^{\\pi} \\geq 0$ a.s.,\n",
    "3. $P(V_T^{\\pi} > 0) > 0$ a.s. "
   ]
  },
  {
   "cell_type": "markdown",
   "metadata": {},
   "source": [
    "<u> **Definition 5.3** </u> \n",
    "\n",
    "An **equivalent martingale measure (EMM)** is a probability measure $\\mathbb{Q} ∼ \\mathbb{P} $ such that the discounted dividend-adjusted prices\n",
    "\n",
    "$$S_t^{*, n} = \\frac{S_t^n e^{\\int_{0}^{t} q_u^n du }}{B_t / B_0} = S_t^n e^{\\int_{0}^{t} (q_u^n - r_u) du}$$ \n",
    "\n",
    "are martingales with repsect to $\\mathbb{Q}$ for each $n = 1, \\dots, N$."
   ]
  },
  {
   "cell_type": "markdown",
   "metadata": {},
   "source": [
    "In discrete time,\n",
    "\n",
    "$$NA \\iff \\exists \\text{ equivalent martingale measure } \\mathbb{Q} $$"
   ]
  },
  {
   "cell_type": "markdown",
   "metadata": {},
   "source": [
    "What happens in continuous time setup? "
   ]
  },
  {
   "cell_type": "markdown",
   "metadata": {},
   "source": [
    "<u> **Example** </u> \n",
    "\n",
    "Consider the BS model with \n",
    "$$S_t = \\exp \\{ -\\sigma^2 t / 2 + \\sigma W_t\\}, \\qquad B_t \\equiv 1$$\n",
    "\n",
    "The process $S_t$ is a martingale and \n",
    "$$dS_t = S_t \\sigma dW_t,$$\n",
    "which leads to \n",
    "$$S_t = 1 + \\sigma \\int_{0}^{t} S_r dW_r.$$\n"
   ]
  },
  {
   "cell_type": "markdown",
   "metadata": {},
   "source": [
    "It is well known that $W_t$ almost surely reachs any fixed level for finite time. That is, $\\tau := \\inf \\{ t \\geq 0: W_t = 1\\}$ is finite a.s. \n",
    "\n",
    "Let $\\xi_t = \\dfrac{1}{1 - t},\\quad t < 1$. \n",
    "\n",
    "Then if $X_t = \\int_{0}^{t} \\xi_r dW_r$, we get that $Law(X_t) = Law(W_{\\frac{t}{1 - t}})$.\n",
    "\n",
    "Hence, $X_t$ almost surely on $[0, 1)$ crosses the level $1$, that is $\\tau := \\inf \\{ t \\in [0, 1): X_t = 1\\} < \\infty$ a.s.\n",
    "\n",
    "Let $\\tilde \\xi = \\xi  \\mathbb{I}_{ [0, \\tau ]}$ and consider a self-financing strategy $\\pi_t = (G_t, H_t^{1})$, such that $V_{0}^{\\pi} = 0$ and $H_t^1 := \\frac{\\tilde \\xi_t}{S_t}$. \n",
    "\n",
    "Then \n",
    "$$V_1^{\\pi} = V_0^{\\pi} + \\int_{0}^{1} H_t^1 dS_t + \\int_{0}^{1} G_t dB_t  = \\int_{0}^{1} \\frac{\\tilde \\xi_t}{S_t} dS_t = \\int_{0}^{1} \\frac{\\tilde \\xi_t}{S_t} \\sigma S_t dW_t = \\sigma \\int_{0}^{1} \\tilde \\xi_t dW_t = 1.$$\n",
    "\n",
    "Hence, we get a strategy which transfers $0 \\$$ to $1 \\$$:\n",
    "\n",
    "$$\\pi: V_0^{\\pi} = 0 \\mapsto V_1^{\\pi} = 1.$$\n",
    "\n",
    "and we get an aribtrage opportunity. But this is not the end. Consider now the strategy $\\tilde \\pi = (1 - G_t, - H_t^{1})$. Then $V_0^{\\tilde \\pi} = 1$ and $\\tilde V_1^{\\pi} = 0$. So we have a 'suicide' strategy which transfers $1 \\$$ to $0 \\$$:\n",
    "\n",
    "$$\\tilde \\pi: V_0^{\\pi} = 1 \\mapsto V_1^{\\pi} = 0.$$"
   ]
  },
  {
   "cell_type": "markdown",
   "metadata": {},
   "source": [
    "For that reason we need an extra condition.\n"
   ]
  },
  {
   "cell_type": "markdown",
   "metadata": {},
   "source": [
    "<u> **Definition 5.4** </u> \n",
    "\n",
    "The strategy is **admissible**, if $\\exists c \\in \\mathbb{R}$ such that $\\forall t \\geq 0$ we get that $V_t^{\\pi} \\geq c.$"
   ]
  },
  {
   "cell_type": "markdown",
   "metadata": {},
   "source": [
    "Why in example above this condition is violated? Exactly because the process $X_t$ for finite time can take arbitrarily large values, as $Law(X_t) = Law(W_{t/(1-t)})$. "
   ]
  },
  {
   "cell_type": "markdown",
   "metadata": {},
   "source": [
    "<u> **Definition 5.5** </u> \n",
    "\n",
    "The **no-free-lunch-with-vanishing-risk condition (NFLVR)** means that there is no random variable $X$ such that  \n",
    "\n",
    "1. $X \\geq 0$;\n",
    "2. $P(X > 0) > 0$.\n",
    "3. $\\forall \\varepsilon > 0$ $\\exists$ strategy $\\pi$ such that $V^{\\pi}_T \\geq X - \\varepsilon$ and $V^{\\pi}_0 = 0$."
   ]
  },
  {
   "cell_type": "markdown",
   "metadata": {},
   "source": [
    "This condition means that starting with a zero level we can not get a profit with a vanishing risk $\\varepsilon$. "
   ]
  },
  {
   "cell_type": "markdown",
   "metadata": {},
   "source": [
    "<u> **Definition 5.5** </u> \n",
    "\n",
    "An equivalent local martingale measure (ELMM) is a probability measure $\\mathbb{Q} \\sim \\mathbb{P}$ such that the discounted dividend-adjusted prices\n",
    "$S^{∗,n}$ re local martingales with respect to $\\tilde P$.\n",
    "\n",
    "<u> **Proposition 5.1**</u> \n",
    "\n",
    "An ELMM is a probability measure $\\mathbb{Q} \\sim \\mathbb{P}$ such that for any strategy $π_t$ the discounted value $V_t^{*, \\pi} = \\dfrac{V_t^{\\pi}}{B_t}$\n",
    "are local martingales with respect to $\\tilde P$.\n",
    "\n",
    "<u> *Proof idea:*</u> \n",
    "\n",
    "Let $q_t \\equiv 0$. Then\n",
    "\n",
    "$$d V_t^{*, \\pi} = V_t^{\\pi} dB_t^{-1} + B_t^{-1} dV_t^{\\pi} = V_t^{\\pi} dB_t^{-1} + B_t^{-1} G_t dB_t + B_t^{-1} \\sum_{n=1}^{N} H_t^n dS_t^n.$$\n",
    "\n",
    "$$\\sum_{n=1}^{N} H_t^n dS_t^{*, n} = \\sum_{n=1}^{N} H_t^n \\left( S_t^{n} dB^{-1}_t + B^{-1}_t dS_t^n\\right) = V_t^{\\pi} dB^{-1}_t - G_t B_t dB_t^{-1} + \\sum_{n=1}^{N} H_t^n  B^{-1}_t dS_t^n.$$\n",
    "\n",
    "Hence, $$d V_t^{*, \\pi} = \\sum_{n=1}^{N} H_t^n dS_t^{*, n}.$$\n",
    "\n",
    "So if $S_t^{*, n}$ is local martingale, $V_t^{*, \\pi}$ is also a local martignale."
   ]
  },
  {
   "cell_type": "markdown",
   "metadata": {},
   "source": [
    "In continuous time, \n",
    "\n",
    "$$\\text{No Arbitrage} \\mapsto \\text{No Free Lunch With Vanishing Risk}$$\n",
    "\n",
    "$$\\text{Martingality} \\mapsto \\text{Local Martingality}$$"
   ]
  },
  {
   "cell_type": "markdown",
   "metadata": {},
   "source": [
    "**Intuition:** If $V_t^{\\pi} / B_t$ is local martingale and $V_t^{\\pi} \\geq c$, then $V_t^{\\pi} / B_t$ is supermartingale, which means that \n",
    "\n",
    "$$E^{\\tilde P} \\left[  V_t^{\\pi} / B_t | \\mathcal{F_s} \\right] \\leq V_s^{\\pi} / B_s \\qquad s \\leq t,$$\n",
    "\n",
    "and so \"on average\" $V_t^{\\pi} / B_t$ is not greater than $V_s^{\\pi} / B_s$, which is \"no arbitrage\"."
   ]
  },
  {
   "cell_type": "markdown",
   "metadata": {},
   "source": [
    "#### 6. More about random processes"
   ]
  },
  {
   "cell_type": "markdown",
   "metadata": {},
   "source": [
    " <u> **Definition 6.1** </u> Processes $X$ and $Y$ are called **indistinguishable**, if their trajectories coincide a.s., i.e.\n",
    "$$\n",
    "P(\\omega : X_t(\\omega) = Y_t(\\omega)\\ \\text{for all}\\ t\\ge 0) = 1.\n",
    "$$\n",
    "\n",
    "A process $Y$ is called a **modification** of a process $X$, if\n",
    "$$\n",
    "X_t = Y_t\\ \\text{a.s.\\ for all}\\ t\\ge 0.\n",
    "$$\n",
    "<u> **Proposition 6.1** </u>  If $X$ are $Y$ right-continuous (or left-continuous) and $Y$ is a modification of $X$, then $X$ and $Y$ are indistinguishable.\n",
    "\n",
    " <u> *Proof idea:* </u>\n",
    " \n",
    "$$ \\{ X_t=Y_t\\ \\text{for all}\\ t\\ge 0\\} = \\bigcap_{t\\in\\mathbb{Q}_+} \\{X_t=Y_t\\}. $$"
   ]
  },
  {
   "cell_type": "markdown",
   "metadata": {},
   "source": [
    "\n",
    " <u> **Proposition 6.2** </u> If a process is right- or left-continuous, then it is measurable.\n",
    "\n",
    "\n",
    " <u> *Proof idea:* </u> A right-continuous process $X$ can be approximated by piecewise constant processes $X^n_t(\\omega) = X(\\omega, \\lceil nt \\rceil/n)$, which are measurable, i.e. for any $t$ and $\\omega$\n",
    "\n",
    "$$\n",
    "\\lim_{n\\to\\infty} X_t^n(\\omega) = X_t(\\omega).\n",
    "$$\n",
    "Because passing to the limit preserves the measurability, $X$ is measurable.  Similarly for left-continuous processes."
   ]
  },
  {
   "cell_type": "markdown",
   "metadata": {},
   "source": [
    "With respect to a filtration $\\mathcal{F}$, a process $X$ is called\n",
    "\n",
    "1. **adapted**, if $X_t$ is $\\mathcal{F}_t$-measurable for each $t\\in[0,T]$;\n",
    "\n",
    "2. **progressively measurable**, if for any $T'\\in[0,T]$ the mapping $X(\\omega,t)$, where $t\\in[0,T']$, is $\\mathcal{F}_{T'}\\times B([0,T'])$-measurable;\n",
    "\n",
    "3. **optional**, if the mapping $X(\\omega,t)$ is measurable with respect to the optional $\\sigma$-algebra $\\mathcal{O}$, which is generated by all adapted **right**-continuous processes $X$ considered as mappings $X(\\omega,t)$;\n",
    "\n",
    "4. **predictable**, if the mapping $X(\\omega,t)$ is measurable with respect to the predictable $\\sigma$-algebra $\\mathcal{P}$, which is generated by all adapted **left**-continuous processes $X$ considered as mappings $X(\\omega,t)$.\n"
   ]
  },
  {
   "cell_type": "markdown",
   "metadata": {},
   "source": [
    " <u> **Proposition 6.3** </u> The classes of random process satisfy the following inclusions:\n",
    "$$\n",
    "\\text{predictable} \\subseteq \\text{optional} \\subseteq\n",
    "\\text{prog.\\ measurable} \\subseteq \\text{adapted}.\n",
    "$$\n",
    "\n",
    "Any progressively measurable process is measurable and adapted.\n",
    "But an adapted process can, in general, be non-measurable. Example: $X_t=f(t)$ for some non-measurable non-random function $f$."
   ]
  }
 ],
 "metadata": {
  "kernelspec": {
   "display_name": "Python (stvol)",
   "language": "python",
   "name": "stvol"
  },
  "language_info": {
   "codemirror_mode": {
    "name": "ipython",
    "version": 3
   },
   "file_extension": ".py",
   "mimetype": "text/x-python",
   "name": "python",
   "nbconvert_exporter": "python",
   "pygments_lexer": "ipython3",
   "version": "3.9.12"
  }
 },
 "nbformat": 4,
 "nbformat_minor": 4
}
