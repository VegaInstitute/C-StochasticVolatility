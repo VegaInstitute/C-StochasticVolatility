{
 "cells": [
  {
   "cell_type": "markdown",
   "metadata": {},
   "source": [
    "## *Seminar 11: Stochastic Volatility Inspired model (SVI)*"
   ]
  },
  {
   "cell_type": "markdown",
   "metadata": {},
   "source": [
    "## 1. SVI model"
   ]
  },
  {
   "cell_type": "markdown",
   "metadata": {},
   "source": [
    "No SDE, just volatility smile parametrization."
   ]
  },
  {
   "cell_type": "markdown",
   "metadata": {},
   "source": [
    "Notation:\n",
    "- $T$ — time to expiration,\n",
    "- $F_0$ — current forward price,\n",
    "- $K$ — strike price,\n",
    "- $x = \\ln(K/F_0)$ — log-moneyness, \n",
    "- $\\hat\\sigma$ — implied volatility,\n",
    "- $ w = T\\hat\\sigma^2$ — total variance.\n",
    "\n",
    "Black's formula in this notation:\n",
    "$$\n",
    "C = e^{-rT}\\bigl(F_0\\Phi(d_1) - K\\Phi(d_2)\\bigr), \\qquad\n",
    "d_1 = -\\frac{x}{\\sqrt{ w}} + \\frac{\\sqrt{ w}}{2},\\quad\n",
    "d_2 = -\\frac{x}{\\sqrt{ w}} - \\frac{\\sqrt{ w}}{2}.\n",
    "$$"
   ]
  },
  {
   "cell_type": "markdown",
   "metadata": {},
   "source": [
    "### 1.1 Raw parametrization\n",
    "\n",
    "$$\n",
    "w(x) = a + b\\left(\\rho(x-m) + \\sqrt{(x-m)^2 + \\sigma^2}\\right)\n",
    "$$\n",
    "\n",
    "- $a$ and $m$ — vertical and horizontal shift,\n",
    "- $b$ — angle between asymptotes as $x\\to\\pm\\infty$:\n",
    "$$\n",
    "w(x) \\sim a - b(1 -\\rho) (x - m)\\ \\text{as}\\ x\\to-\\infty, \\\\\n",
    "w(x)\\sim a + b(1 +\\rho) (x - m)\\ \\text{as}\\ x\\to+\\infty,\n",
    "$$\n",
    "- $\\sigma$ — convexity,\n",
    "- $\\rho$ — skew."
   ]
  },
  {
   "cell_type": "markdown",
   "metadata": {},
   "source": [
    "### 1.2 Natural parametrization\n",
    "\n",
    "Parameters: $\\Delta,\\mu,\\rho,\\omega,\\zeta$ ($\\omega\\ge 0$, $\\Delta,\\mu\\in R$, $|\\rho|<1$, $\\zeta>0$)\n",
    "\n",
    "$$\n",
    "w(x) = \\Delta + \\frac\\omega2 \\left(1 + \\zeta\\rho(x-\\mu) +\n",
    "\\sqrt{(\\zeta(x-\\mu)+\\rho)^2 + 1-\\rho^2} \\right).\n",
    "$$"
   ]
  },
  {
   "cell_type": "markdown",
   "metadata": {},
   "source": [
    "### 1.3 Jump-wings parametrization\n",
    "\n",
    "More stable for different expiration times.\n",
    "\n",
    "$$\n",
    "\\begin{aligned}\n",
    "&v = \\frac{a+b(-\\rho m+\\sqrt{m^2+\\sigma^2})}{T},\\\\\n",
    "&\\psi = \\frac{b}{2\\sqrt{vT}} \\left( -\\frac{m}{\\sqrt{m^2+\\sigma^2}} +\\rho \n",
    "\\right),\\\\\n",
    "&p = \\frac{b(1-\\rho)}{\\sqrt{vT}},\\\\\n",
    "&c = \\frac{b(1+\\rho)}{\\sqrt{vT}},\\\\\n",
    "&\\tilde v = \\frac 1T (a+b\\sigma\\sqrt{1-\\rho^2}).\n",
    "\\end{aligned}\n",
    "$$\n",
    "\n",
    "Interpretation:\n",
    "\n",
    "- $v = \\hat\\sigma^2(0)$ — ATM variance;\n",
    "- $\\psi = \\partial_x \\sqrt{w(x)} \\mid_{x=0} = \\sqrt T\\partial_x \\hat\\sigma(x) \\mid_{x=0}$ — ATM skew;\n",
    "- $p$ — asymptote slope absolute value $\\frac{w(x)}{\\hat\\sigma(0)\\sqrt T}$ as $x\\to-\\infty$, i.e. $p=-\\lim\\limits_{x\\to-\\infty} \\frac{w(x)}{x\\hat\\sigma(0)\\sqrt{T}}$ (left wing slope);\n",
    "- $c$ — right wing slope;\n",
    "- $\\tilde v = \\min_{x} \\hat\\sigma^2(x)$ — implied variance minimum."
   ]
  },
  {
   "cell_type": "code",
   "execution_count": 1,
   "metadata": {
    "tags": []
   },
   "outputs": [],
   "source": [
    "from dataclasses import dataclass, astuple\n",
    "from copy import deepcopy\n",
    "from typing import Callable, Union\n",
    "import math\n",
    "import json\n",
    "\n",
    "import numpy as np\n",
    "import numpy.typing as npt\n",
    "from scipy import optimize\n",
    "import pandas as pd\n",
    "import matplotlib as mpl\n",
    "import matplotlib.pyplot as plt\n",
    "from tqdm.auto import tqdm, trange\n",
    "from ipywidgets import widgets, interact"
   ]
  },
  {
   "cell_type": "code",
   "execution_count": 2,
   "metadata": {
    "tags": []
   },
   "outputs": [],
   "source": [
    "FloatArray = npt.NDArray[np.float_]\n",
    "Floats = Union[float, FloatArray]\n",
    "\n",
    "@dataclass\n",
    "class MarketState:\n",
    "    stock_price: Floats\n",
    "    interest_rate: Floats\n",
    "    time: Floats = 0\n",
    "    \n",
    "@dataclass\n",
    "class StockOption:\n",
    "    strike_price: Floats\n",
    "    expiration_time: Floats  # in years\n",
    "    is_call: Union[bool, npt.NDArray[np.bool_]] = None\n",
    "    \n",
    "    def __post_init__(self):\n",
    "        assert self.is_call is not None\n",
    "    \n",
    "    def payoff(self, stock_price: Floats) -> Floats:\n",
    "        call_payoff = np.maximum(0, stock_price - self.strike_price)\n",
    "        put_payoff = np.maximum(0, self.strike_price - stock_price)\n",
    "        return np.where(self.is_call, call_payoff, put_payoff)\n",
    "\n",
    "class CallStockOption(StockOption):\n",
    "    def __post_init__(self):\n",
    "        self.is_call = True\n",
    "        \n",
    "class PutStockOption(StockOption):\n",
    "    def __post_init__(self):\n",
    "        self.is_call = False"
   ]
  },
  {
   "cell_type": "code",
   "execution_count": 3,
   "metadata": {
    "tags": []
   },
   "outputs": [],
   "source": [
    "@dataclass\n",
    "class SVIParams:\n",
    "    a: float\n",
    "    b: float\n",
    "    rho: float\n",
    "    m: float\n",
    "    sigma: float\n",
    "\n",
    "    def to_natural(self) -> tuple[float, float, float, float, float]:\n",
    "        \"\"\"Returns parameters of the natural parametrization.\n",
    "\n",
    "        The natural parametrization is:\n",
    "          `w(x) = delta + omega/2 * (1 + zeta*rho*(x-mu)\n",
    "                + sqrt((zeta*(x-mu) + rho)**2 + 1 - rho**2)`\n",
    "\n",
    "        Returns:\n",
    "          Tuple `(delta, mu, rho, omega, zeta)`.\n",
    "        \"\"\"\n",
    "        omega = 2 * self.b * self.sigma / np.sqrt(1 - self.rho**2)\n",
    "        delta = self.a - 0.5 * omega * (1 - self.rho**2)\n",
    "        mu = self.m + self.rho * self.sigma / np.sqrt(1 - self.rho**2)\n",
    "        zeta = np.sqrt(1 - self.rho**2) / self.sigma\n",
    "        return delta, mu, self.rho, omega, zeta\n",
    "\n",
    "    @classmethod\n",
    "    def from_natural(\n",
    "        cls,\n",
    "        delta: float,\n",
    "        mu: float,\n",
    "        rho: float,\n",
    "        omega: float,\n",
    "        zeta: float,\n",
    "    ):\n",
    "        \"\"\"Construct a class instance from natural parameters.\n",
    "\n",
    "        See `to_natural` method for the formula of this parametrization.\n",
    "        \"\"\"\n",
    "        return cls(\n",
    "            a=delta + 0.5 * omega * (1 - rho**2),\n",
    "            b=0.5 * omega * zeta,\n",
    "            rho=rho,\n",
    "            m=mu - rho / zeta,\n",
    "            sigma=np.sqrt(1 - rho**2) / zeta\n",
    "        )\n",
    "\n",
    "    def to_jumpwing(\n",
    "            self, t: float = 1\n",
    "    ) -> tuple[float, float, float, float, float]:\n",
    "        \"\"\"Returns parameters of the jump-wing parametrization.\n",
    "\n",
    "        This parametrization depends on the time to expiration of the options\n",
    "        constituting the volatility curve. See Gatheral's presentation (2004)\n",
    "        for details and formulas.\n",
    "\n",
    "        Args:\n",
    "          t: Time to expiration of the options.\n",
    "\n",
    "        Returns:\n",
    "          Tuple  `(v, psi, p, c, v_tilde)` of the jump-wing parameteres.\n",
    "        \"\"\"\n",
    "        w = (\n",
    "            self.a\n",
    "            + self.b * (-self.rho * self.m + np.sqrt(self.m**2 + self.sigma**2))\n",
    "        )\n",
    "        v = w / t\n",
    "        psi = self.b / np.sqrt(w) / 2 * (\n",
    "            -self.m / np.sqrt(self.m**2 + self.sigma**2) + self.rho\n",
    "        )\n",
    "        p = self.b * (1 - self.rho) / np.sqrt(w)\n",
    "        c = self.b * (1 + self.rho) / np.sqrt(w)\n",
    "        v_tilde = (self.a + self.b * self.sigma * np.sqrt(1 - self.rho**2)) / t\n",
    "        return v, psi, p, c, v_tilde\n",
    "\n",
    "    @classmethod\n",
    "    def from_jumpwing(\n",
    "        cls, \n",
    "        v: float,\n",
    "        psi: float,\n",
    "        p: float,\n",
    "        c: float,\n",
    "        v_tilde: float,\n",
    "        t: float = 1,\n",
    "    ):\n",
    "        \"\"\"Construct a class instance from jump-wing parameters.\"\"\"\n",
    "        w = v * t\n",
    "        b = 0.5 * np.sqrt(w) * (c + p)\n",
    "        rho = 1 - 2 * p / (c + p)\n",
    "        beta = rho - 2 * psi * np.sqrt(w) / b\n",
    "        if np.abs(beta) > 1:\n",
    "            raise ValueError(\n",
    "                f\"Smile is not convex: beta={beta}, but must be in [-1, 1].\")\n",
    "        elif beta == 0:\n",
    "            m = 0\n",
    "            sigma = (v - v_tilde) * t / (b * (1 - np.sqrt(1 - rho**2)))\n",
    "        else:\n",
    "            alpha = np.sign(beta) * np.sqrt(1 / beta**2 - 1)\n",
    "            m = (v - v_tilde) * t / (\n",
    "                b * (\n",
    "                    -rho + np.sign(alpha) * np.sqrt(1 + alpha**2)\n",
    "                    - alpha * np.sqrt(1 - rho**2)\n",
    "                )\n",
    "            )\n",
    "            sigma = alpha * m\n",
    "        a = v_tilde * t - b * sigma * np.sqrt(1 - rho**2)\n",
    "        return cls(a, b, rho, m, sigma)\n",
    "\n",
    "    def __call__(self, x: FloatArray) -> FloatArray:\n",
    "        \"\"\"Returns the total implied variance `w(x)`.\"\"\"\n",
    "        return self.a + self.b * (\n",
    "            self.rho * (x - self.m) + np.sqrt((x - self.m)**2 + self.sigma**2)\n",
    "        )"
   ]
  },
  {
   "cell_type": "code",
   "execution_count": 4,
   "metadata": {
    "tags": []
   },
   "outputs": [],
   "source": [
    "def plot_raw(\n",
    "    a: float,\n",
    "    b: float,\n",
    "    rho: float,\n",
    "    m: float,\n",
    "    sigma: float,\n",
    "):\n",
    "    params = SVIParams(a, b, rho, m, sigma)\n",
    "    x = np.linspace(-1.5, 1.5, 100)\n",
    "    w = params(x)\n",
    "    \n",
    "    fig, ax = plt.subplots()\n",
    "    ax.plot(x, w)\n",
    "    ax.set_xlabel(\"Log-moneyness\")\n",
    "    ax.set_ylabel(\"Total variance\")\n",
    "    ax.set_title(\"Raw parametrization\")\n",
    "    ax.set_xlim(-2, 2)\n",
    "    ax.set_ylim(-.1, 1)"
   ]
  },
  {
   "cell_type": "code",
   "execution_count": 5,
   "metadata": {
    "tags": []
   },
   "outputs": [
    {
     "data": {
      "application/vnd.jupyter.widget-view+json": {
       "model_id": "3d8d4064f0404924bb24326b91770747",
       "version_major": 2,
       "version_minor": 0
      },
      "text/plain": [
       "interactive(children=(FloatSlider(value=0.0, description='a', max=1.0, step=0.01), FloatSlider(value=0.0, desc…"
      ]
     },
     "metadata": {},
     "output_type": "display_data"
    },
    {
     "data": {
      "text/plain": [
       "<function __main__.plot_raw(a: float, b: float, rho: float, m: float, sigma: float)>"
      ]
     },
     "execution_count": 5,
     "metadata": {},
     "output_type": "execute_result"
    }
   ],
   "source": [
    "interact(\n",
    "    plot_raw,\n",
    "    a    =widgets.FloatSlider(min=0,  max=1, step=.01),\n",
    "    b    =widgets.FloatSlider(min=0,  max=1, step=.01),\n",
    "    rho  =widgets.FloatSlider(min=-1, max=1, step=.01),\n",
    "    m    =widgets.FloatSlider(min=-1, max=1, step=.01),\n",
    "    sigma=widgets.FloatSlider(min=0,  max=1, step=.01),\n",
    ")"
   ]
  },
  {
   "cell_type": "code",
   "execution_count": 6,
   "metadata": {
    "tags": []
   },
   "outputs": [],
   "source": [
    "def plot_natural(\n",
    "    delta: float,\n",
    "    mu: float,\n",
    "    rho: float,\n",
    "    omega: float,\n",
    "    zeta: float,\n",
    "):\n",
    "    params = SVIParams.from_natural(\n",
    "        delta,\n",
    "        mu,\n",
    "        rho,\n",
    "        omega,\n",
    "        zeta,\n",
    "    )\n",
    "    x = np.linspace(-1.5, 1.5, 100)\n",
    "    w = params(x)\n",
    "    \n",
    "    fig, ax = plt.subplots()\n",
    "    ax.plot(x, w)\n",
    "    ax.set_xlabel(\"Log-moneyness\")\n",
    "    ax.set_ylabel(\"Total variance\")\n",
    "    ax.set_title(\"Natural parametrization\")\n",
    "    ax.set_xlim(-2, 2)\n",
    "    ax.set_ylim(-.1, 1)"
   ]
  },
  {
   "cell_type": "code",
   "execution_count": 7,
   "metadata": {
    "tags": []
   },
   "outputs": [
    {
     "data": {
      "application/vnd.jupyter.widget-view+json": {
       "model_id": "0f3bf3e26c2543c4b3bb7681164c9336",
       "version_major": 2,
       "version_minor": 0
      },
      "text/plain": [
       "interactive(children=(FloatSlider(value=0.0, description='delta', max=1.0, min=-1.0, step=0.01), FloatSlider(v…"
      ]
     },
     "metadata": {},
     "output_type": "display_data"
    },
    {
     "data": {
      "text/plain": [
       "<function __main__.plot_natural(delta: float, mu: float, rho: float, omega: float, zeta: float)>"
      ]
     },
     "execution_count": 7,
     "metadata": {},
     "output_type": "execute_result"
    }
   ],
   "source": [
    "interact(\n",
    "    plot_natural,\n",
    "    delta=widgets.FloatSlider(min=-1,  max=1,  step=.01),\n",
    "    mu   =widgets.FloatSlider(min=-1,  max=1,  step=.01),\n",
    "    rho  =widgets.FloatSlider(min=-1,  max=1,  step=.01),\n",
    "    omega=widgets.FloatSlider(min=0,   max=1,  step=.01),\n",
    "    zeta =widgets.FloatSlider(min=.01, max=10, step=.01),\n",
    ")"
   ]
  },
  {
   "cell_type": "code",
   "execution_count": 8,
   "metadata": {
    "tags": []
   },
   "outputs": [],
   "source": [
    "def plot_jumpwing(\n",
    "    v: float,\n",
    "    psi: float,\n",
    "    p: float,\n",
    "    c: float,\n",
    "    v_tilde: float,\n",
    "    t: float,\n",
    "):\n",
    "    params = SVIParams.from_jumpwing(\n",
    "        v,\n",
    "        psi,\n",
    "        p,\n",
    "        c,\n",
    "        v_tilde,\n",
    "        t,\n",
    "    )\n",
    "    x = np.linspace(-1.5, 1.5, 100)\n",
    "    w = params(x)\n",
    "    \n",
    "    fig, ax = plt.subplots()\n",
    "    ax.plot(x, w)\n",
    "    ax.set_xlabel(\"Log-moneyness\")\n",
    "    ax.set_ylabel(\"Total variance\")\n",
    "    ax.set_title(\"Jump-wing parametrization\")\n",
    "    ax.set_xlim(-2, 2)\n",
    "    ax.set_ylim(-.1, 1)"
   ]
  },
  {
   "cell_type": "code",
   "execution_count": 9,
   "metadata": {
    "tags": []
   },
   "outputs": [
    {
     "data": {
      "application/vnd.jupyter.widget-view+json": {
       "model_id": "fbc5748a98dc4e5b8c822f95d1da3df4",
       "version_major": 2,
       "version_minor": 0
      },
      "text/plain": [
       "interactive(children=(FloatSlider(value=0.01, description='v', max=1.0, min=0.01, step=0.01), FloatSlider(valu…"
      ]
     },
     "metadata": {},
     "output_type": "display_data"
    },
    {
     "data": {
      "text/plain": [
       "<function __main__.plot_jumpwing(v: float, psi: float, p: float, c: float, v_tilde: float, t: float)>"
      ]
     },
     "execution_count": 9,
     "metadata": {},
     "output_type": "execute_result"
    }
   ],
   "source": [
    "interact(\n",
    "    plot_jumpwing,\n",
    "    v      =widgets.FloatSlider(min=.01, max=1,  step=.01),\n",
    "    psi    =widgets.FloatSlider(min=-1,  max=1,  step=.01),\n",
    "    p      =widgets.FloatSlider(min=.01, max=3,  step=.01),\n",
    "    c      =widgets.FloatSlider(min=.01, max=3,  step=.01),\n",
    "    v_tilde=widgets.FloatSlider(min=0,   max=1,  step=.01),\n",
    "    t      =widgets.FloatSlider(min=.01, max=10, step=.01),\n",
    ")"
   ]
  },
  {
   "cell_type": "markdown",
   "metadata": {},
   "source": [
    "## 2. Let's calibrate"
   ]
  },
  {
   "cell_type": "code",
   "execution_count": 10,
   "metadata": {
    "tags": []
   },
   "outputs": [],
   "source": [
    "with open('options_data.json') as f:\n",
    "    data = json.load(f)"
   ]
  },
  {
   "cell_type": "code",
   "execution_count": 11,
   "metadata": {
    "tags": []
   },
   "outputs": [],
   "source": [
    "ms = MarketState(\n",
    "    stock_price=float(data[\"S0\"]),\n",
    "    interest_rate=float(data[\"r\"])\n",
    ")\n",
    "\n",
    "calls, ivs = [], []\n",
    "for i, (t_exp, iv_smile) in enumerate(data[\"IV\"].items()):\n",
    "    calls.append(CallStockOption(\n",
    "        strike_price=np.array(iv_smile[\"strikes\"]),\n",
    "        expiration_time=float(t_exp),\n",
    "    ))\n",
    "    ivs.append(np.array(iv_smile[\"iv\"]))"
   ]
  },
  {
   "cell_type": "code",
   "execution_count": 12,
   "metadata": {
    "tags": []
   },
   "outputs": [
    {
     "data": {
      "image/png": "[encoded data removed]",
      "text/plain": [
       "<Figure size 640x480 with 1 Axes>"
      ]
     },
     "metadata": {},
     "output_type": "display_data"
    }
   ],
   "source": [
    "_, ax = plt.subplots()\n",
    "\n",
    "for call, iv in zip(calls, ivs):\n",
    "    ax.plot(\n",
    "        call.strike_price,\n",
    "        100 * iv,\n",
    "        \"^\",\n",
    "        label=f\"T = {call.expiration_time:.2f}\",\n",
    "    )\n",
    "    \n",
    "ax.set_title(\"IVs for different expirations\")\n",
    "ax.set_ylabel(\"IV, %\")\n",
    "ax.set_xlabel(\"Strike price\")\n",
    "ax.legend()\n",
    "\n",
    "plt.show()"
   ]
  },
  {
   "cell_type": "code",
   "execution_count": 13,
   "metadata": {
    "tags": []
   },
   "outputs": [],
   "source": [
    "def calibrate_adc(\n",
    "    x: FloatArray,\n",
    "    w: FloatArray,\n",
    "    m: float,\n",
    "    sigma: float\n",
    ") -> float:\n",
    "    \"\"\"Calibrates the raw parameters `a, d, c` given `m, sigma`.\n",
    "\n",
    "    This is an auxiliary function used in the two-step calibration\n",
    "    procedure. It finds `a, d, c` which minimize the sum of squares of the\n",
    "    differences of the given total implied variances and the ones produced\n",
    "    by the model, assuming that `m, sigma` are given and fixed.\n",
    "\n",
    "    Args:\n",
    "      x: Array of log-moneynesses\n",
    "      w: Array of total implied variances.\n",
    "      m: Parameter `m` of the model.\n",
    "      sigma: Parameter `sigma` of the model.\n",
    "\n",
    "    Returns:\n",
    "      Tuple `((a, d, c), f)` where `a, d, c` are the calibrated parameters\n",
    "      and `f` is the value of the objective function at the minimum.\n",
    "    \"\"\"\n",
    "    # Objective function; p = (a, d, c)\n",
    "    def f(p):\n",
    "        return 0.5*np.linalg.norm(\n",
    "            p[0] + p[1]*(x-m)/sigma + p[2]*np.sqrt(((x-m)/sigma)**2+1) -\n",
    "            w)**2\n",
    "\n",
    "    # Gradient of the objective function\n",
    "    def fprime(p):\n",
    "        v1 = (x-m)/sigma\n",
    "        v2 = np.sqrt(((x-m)/sigma)**2+1)\n",
    "        v = p[0] + p[1]*v1 + p[2]*v2 - w\n",
    "        return (np.sum(v), np.dot(v1, v), np.dot(v2, v))\n",
    "\n",
    "    res = optimize.minimize(\n",
    "        f,\n",
    "        x0=(np.max(w)/2, 0, 2*sigma),\n",
    "        method=\"SLSQP\",\n",
    "        jac=fprime,\n",
    "        bounds=[(None, np.max(w)), (None, None), (0, 4*sigma)],\n",
    "        constraints=[\n",
    "            {'type': 'ineq',\n",
    "             'fun': lambda p: p[2]-p[1],\n",
    "             'jac': lambda _: (0, -1, 1)},\n",
    "            {'type': 'ineq',\n",
    "             'fun': lambda p: p[2]+p[1],\n",
    "             'jac': lambda _: (0, 1, 1)},\n",
    "            {'type': 'ineq',\n",
    "             'fun': lambda p: 4*sigma - p[2]-p[1],\n",
    "             'jac': lambda _: (0, -1, -1)},\n",
    "            {'type': 'ineq',\n",
    "             'fun': lambda p: p[1]+4*sigma-p[2],\n",
    "             'jac': lambda _: (0, 1, -1)}])\n",
    "    return res.x, res.fun"
   ]
  },
  {
   "cell_type": "code",
   "execution_count": 32,
   "metadata": {
    "tags": []
   },
   "outputs": [],
   "source": [
    "def fit_svi(\n",
    "    option: StockOption,\n",
    "    ms: MarketState,\n",
    "    iv: FloatArray,\n",
    "    min_sigma: float = 1e-4,\n",
    "    max_sigma: float = 10,\n",
    "    return_minimize_result: bool = False,\n",
    "    seed: int = 0xB0BA11,  # 4 OK\n",
    ") -> SVIParams:\n",
    "    \n",
    "    t_exp = option.expiration_time - ms.time\n",
    "    f0 = ms.stock_price * np.exp(ms.interest_rate * t_exp)\n",
    "    x = np.log(option.strike_price / f0)\n",
    "    w = t_exp * iv**2 \n",
    "    \n",
    "    res = optimize.dual_annealing(\n",
    "        lambda q: calibrate_adc(x, w, q[0], q[1])[1],  # q=(m, sigma)\n",
    "        bounds=[(min(x) - 1e-3, max(x) + 1e-3), (min_sigma, max_sigma)],\n",
    "        minimizer_kwargs={\"method\": \"nelder-mead\"},\n",
    "        seed=seed,\n",
    "    )\n",
    "    m, sigma = res.x\n",
    "    a, d, c = calibrate_adc(x, w, m, sigma)[0]\n",
    "    rho = d/c\n",
    "    b = c/sigma\n",
    "    ret = SVIParams(a, b, rho, m, sigma)\n",
    "    if return_minimize_result:\n",
    "        return ret, res\n",
    "    else:\n",
    "        return ret"
   ]
  },
  {
   "cell_type": "code",
   "execution_count": 33,
   "metadata": {
    "tags": []
   },
   "outputs": [
    {
     "data": {
      "application/vnd.jupyter.widget-view+json": {
       "model_id": "795d1dcc3c6649939d3ff38fe314ce0e",
       "version_major": 2,
       "version_minor": 0
      },
      "text/plain": [
       "  0%|          | 0/100 [00:00<?, ?it/s]"
      ]
     },
     "metadata": {},
     "output_type": "display_data"
    },
    {
     "data": {
      "application/vnd.jupyter.widget-view+json": {
       "model_id": "7f12617beefa4a15b703dbb71de89e8f",
       "version_major": 2,
       "version_minor": 0
      },
      "text/plain": [
       "  0%|          | 0/100 [00:00<?, ?it/s]"
      ]
     },
     "metadata": {},
     "output_type": "display_data"
    },
    {
     "data": {
      "application/vnd.jupyter.widget-view+json": {
       "model_id": "bc9029b138474762a23c2e2f7a62f296",
       "version_major": 2,
       "version_minor": 0
      },
      "text/plain": [
       "  0%|          | 0/100 [00:00<?, ?it/s]"
      ]
     },
     "metadata": {},
     "output_type": "display_data"
    },
    {
     "data": {
      "application/vnd.jupyter.widget-view+json": {
       "model_id": "8852e08af52b4652aa2464c5dd59c0e4",
       "version_major": 2,
       "version_minor": 0
      },
      "text/plain": [
       "  0%|          | 0/100 [00:00<?, ?it/s]"
      ]
     },
     "metadata": {},
     "output_type": "display_data"
    },
    {
     "data": {
      "application/vnd.jupyter.widget-view+json": {
       "model_id": "6a2e97b9f0ee4464b516220be90a89c2",
       "version_major": 2,
       "version_minor": 0
      },
      "text/plain": [
       "  0%|          | 0/100 [00:00<?, ?it/s]"
      ]
     },
     "metadata": {},
     "output_type": "display_data"
    },
    {
     "data": {
      "application/vnd.jupyter.widget-view+json": {
       "model_id": "099436e7e30e4f2894bffbede06fa9f4",
       "version_major": 2,
       "version_minor": 0
      },
      "text/plain": [
       "  0%|          | 0/100 [00:00<?, ?it/s]"
      ]
     },
     "metadata": {},
     "output_type": "display_data"
    },
    {
     "data": {
      "application/vnd.jupyter.widget-view+json": {
       "model_id": "38c69ac455ec4868af4cf992f52d526a",
       "version_major": 2,
       "version_minor": 0
      },
      "text/plain": [
       "  0%|          | 0/100 [00:00<?, ?it/s]"
      ]
     },
     "metadata": {},
     "output_type": "display_data"
    },
    {
     "data": {
      "application/vnd.jupyter.widget-view+json": {
       "model_id": "3dc8a71d3b794e8db5fcef28b3a2ee63",
       "version_major": 2,
       "version_minor": 0
      },
      "text/plain": [
       "  0%|          | 0/100 [00:00<?, ?it/s]"
      ]
     },
     "metadata": {},
     "output_type": "display_data"
    }
   ],
   "source": [
    "svis = []\n",
    "for call, iv in zip(calls, ivs):\n",
    "    for seed in (pbar := trange(100)):\n",
    "        pbar.set_description_str(f\"Trying seeds for tenor {call.expiration_time:.2f}\")\n",
    "        try:\n",
    "            svi = fit_svi(call, ms, iv, seed=seed)\n",
    "        except Exception:\n",
    "            continue\n",
    "        else:\n",
    "            svis.append(svi)\n",
    "            pbar.set_description_str(f\"Tenor {call.expiration_time:.2f} calibration succeeded\")\n",
    "            break            \n",
    "    else:\n",
    "        svis.append(None)"
   ]
  },
  {
   "cell_type": "code",
   "execution_count": 34,
   "metadata": {
    "tags": []
   },
   "outputs": [
    {
     "data": {
      "image/png": "[encoded data removed]",
      "text/plain": [
       "<Figure size 640x480 with 1 Axes>"
      ]
     },
     "metadata": {},
     "output_type": "display_data"
    }
   ],
   "source": [
    "_, ax = plt.subplots()\n",
    "\n",
    "for call, iv, svi in zip(calls, ivs, svis):\n",
    "    t_exp = call.expiration_time - ms.time\n",
    "    \n",
    "    lines = ax.plot(\n",
    "        call.strike_price,\n",
    "        100 * iv,\n",
    "        \"^\",\n",
    "        label=f\"T = {call.expiration_time:.2f}\",\n",
    "    )\n",
    "    \n",
    "    if svi is None:\n",
    "        continue\n",
    "    \n",
    "    col = lines[0].get_color()\n",
    "    f0 = ms.stock_price * np.exp(ms.interest_rate * t_exp)\n",
    "    lm = np.log(call.strike_price / f0)\n",
    "    svi_iv = np.sqrt(svi(lm) / t_exp)\n",
    "    ax.plot(\n",
    "        call.strike_price,\n",
    "        100 * svi_iv,\n",
    "        c=col,\n",
    "    )\n",
    "    \n",
    "ax.set_title(\"IVs and calibrated SVI smiles for different expirations\")\n",
    "ax.set_ylabel(\"IV, %\")\n",
    "ax.set_xlabel(\"Strike price\")\n",
    "ax.legend()\n",
    "\n",
    "plt.show()"
   ]
  },
  {
   "cell_type": "code",
   "execution_count": 35,
   "metadata": {
    "tags": []
   },
   "outputs": [
    {
     "name": "stdout",
     "output_type": "stream",
     "text": [
      "Parameters in the raw parametrization:\n",
      "T = 0.08:\t6.209e-04\t8.507e-03\t9.350e-02\t7.215e-02\t1.443e-01\t\n",
      "T = 0.17:\t3.234e-03\t8.242e-03\t-3.881e-01\t2.742e-02\t7.637e-02\t\n",
      "T = 0.25:\t4.425e-03\t1.421e-02\t-2.524e-01\t3.901e-02\t1.072e-01\t\n",
      "T = 0.50:\t9.230e-03\t2.650e-02\t-2.351e-01\t4.886e-02\t1.421e-01\t\n",
      "T = 0.75:\t1.415e-02\t3.734e-02\t-2.239e-01\t5.945e-02\t1.844e-01\t\n",
      "T = 1.00:\t1.916e-02\t4.680e-02\t-2.182e-01\t7.040e-02\t2.293e-01\t\n",
      "T = 1.50:\t2.834e-02\t6.358e-02\t-2.015e-01\t9.616e-02\t3.319e-01\t\n",
      "T = 2.00:\t4.462e-02\t7.035e-02\t-2.473e-01\t1.012e-01\t3.736e-01\t\n",
      "\n",
      "Parameters in the jump-wings parametrization:\n",
      "T = 0.08:\t2.323e-02\t-3.418e-02\t1.752e-01\t2.114e-01\t2.212e-02\t\n",
      "T = 0.17:\t2.394e-02\t-4.737e-02\t1.811e-01\t7.983e-02\t2.289e-02\t\n",
      "T = 0.25:\t2.474e-02\t-5.367e-02\t2.262e-01\t1.350e-01\t2.359e-02\t\n",
      "T = 0.50:\t2.703e-02\t-6.386e-02\t2.815e-01\t1.743e-01\t2.578e-02\t\n",
      "T = 0.75:\t2.917e-02\t-6.700e-02\t3.090e-01\t1.959e-01\t2.781e-02\t\n",
      "T = 1.00:\t3.110e-02\t-6.788e-02\t3.232e-01\t2.075e-01\t2.963e-02\t\n",
      "T = 1.50:\t3.436e-02\t-6.718e-02\t3.365e-01\t2.236e-01\t3.267e-02\t\n",
      "T = 2.00:\t3.681e-02\t-6.594e-02\t3.234e-01\t1.952e-01\t3.505e-02\t\n"
     ]
    }
   ],
   "source": [
    "print(\"Parameters in the raw parametrization:\")\n",
    "for call, svi in zip(calls, svis):\n",
    "    if svi is None: continue\n",
    "    print(f\"T = {call.expiration_time:.2f}:\", end=\"\\t\")\n",
    "    for p in astuple(svi):\n",
    "        print(f\"{p:.3e}\", end=\"\\t\")\n",
    "    print()\n",
    "\n",
    "print(\"\\nParameters in the jump-wings parametrization:\")\n",
    "for call, svi in zip(calls, svis):\n",
    "    if svi is None: continue\n",
    "    print(f\"T = {call.expiration_time:.2f}:\", end=\"\\t\")\n",
    "    for p in svi.to_jumpwing(call.expiration_time - ms.time):\n",
    "        print(f\"{p:.3e}\", end=\"\\t\")\n",
    "    print()"
   ]
  },
  {
   "cell_type": "code",
   "execution_count": null,
   "metadata": {},
   "outputs": [],
   "source": []
  }
 ],
 "metadata": {
  "kernelspec": {
   "display_name": "py310",
   "language": "python",
   "name": "py310"
  },
  "language_info": {
   "codemirror_mode": {
    "name": "ipython",
    "version": 3
   },
   "file_extension": ".py",
   "mimetype": "text/x-python",
   "name": "python",
   "nbconvert_exporter": "python",
   "pygments_lexer": "ipython3",
   "version": "3.10.13"
  }
 },
 "nbformat": 4,
 "nbformat_minor": 4
}
