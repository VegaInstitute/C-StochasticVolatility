{
 "cells": [
  {
   "cell_type": "markdown",
   "id": "69a0f9cd",
   "metadata": {},
   "source": [
    "# Around Black-Scholes and Local Volatility"
   ]
  },
  {
   "cell_type": "markdown",
   "id": "6c1d2d28",
   "metadata": {},
   "source": [
    "We offer you the following practical task on Black-Scholes and local volatility models. \n",
    "\n",
    "Total score is **100**, which will be converted to $25\\%$ of the course grade. You have 3 weeks and a half for this work. **Deadline is 10th of November, 23:59 MSK**.\n",
    "\n",
    "The file must be sent to **stoch-vol-24-fall@yandex.ru** with topic \"stoch-vol Lab1\".  Please rename your file as **\"SurnameName_Lab1.ipynb\"** before sending. \n",
    "\n",
    "If you have any questions feel free to ask in Telegram https://t.me/v_antipov or https://t.me/igortao."
   ]
  },
  {
   "cell_type": "markdown",
   "id": "fd105669",
   "metadata": {},
   "source": [
    "**Full name:**\n",
    "\n",
    "**Faculty:**"
   ]
  },
  {
   "cell_type": "markdown",
   "id": "f36418cb",
   "metadata": {},
   "source": [
    "## Episode 0: Import all python modules you wish 💅 (0 points)"
   ]
  },
  {
   "cell_type": "code",
   "execution_count": 1,
   "id": "a0982c69",
   "metadata": {},
   "outputs": [],
   "source": [
    "### YOUR IMPORTS HERE\n",
    "\n",
    "import numpy as np\n",
    "import numpy.typing as npt\n",
    "import matplotlib.pyplot as plt\n",
    "from tqdm import tqdm\n",
    "import scipy.stats as st\n",
    "from collections.abc import Callable\n",
    "from tqdm.auto import trange"
   ]
  },
  {
   "cell_type": "markdown",
   "id": "0cadf568",
   "metadata": {},
   "source": [
    "---"
   ]
  },
  {
   "cell_type": "markdown",
   "id": "58362ab8",
   "metadata": {},
   "source": [
    "## Episode 1: Around Black-Scholes model 🧠 (50 points)"
   ]
  },
  {
   "cell_type": "markdown",
   "id": "fee1e505",
   "metadata": {},
   "source": [
    "**1**. 💅 <span style=\"color:blue\">(10 points)</span>  \n",
    "\n",
    "A call spread is an option strategy in which a call option is bought, and another less expensive call option is sold. That is, the payoff of the call spread at expiration $T$ can be given as \n",
    "\n",
    "$$\\text{Call-spread}(K_1, K_2) = (S_T - K_1)_{+} - (S_T - K_2)_{+}, \\qquad K_1 < K_2.$$\n",
    "\n",
    "Plot **call-spread** option prices as functions of the underlying asset price for different **exercise times** and different **volatilities**. Use parameters \n",
    "\n",
    "$$K_1 = 1, \\quad K_2 = 1.2, \\quad r = 0, \\quad S \\in [0.5, 1.5],$$\n",
    "\n",
    "and $T \\in \\{0,\\ \\frac{1}{4},\\ \\frac{1}{2},\\ \\frac{3}{4},\\ 1\\}$ (time is measured in years) and $\\sigma \\in \\{0.1, \\ 0.2, \\ 0.3\\}$.\n",
    "\n",
    "*Note: the answer should contain three plots (for each volatility $\\sigma$), each of which shows option prices for different excercise times $T$.*"
   ]
  },
  {
   "cell_type": "code",
   "execution_count": 2,
   "id": "2edf4efc",
   "metadata": {},
   "outputs": [],
   "source": [
    "### YOUR CODE HERE"
   ]
  },
  {
   "cell_type": "markdown",
   "id": "e441ad15",
   "metadata": {},
   "source": [
    "---"
   ]
  },
  {
   "cell_type": "markdown",
   "id": "3880a8a1",
   "metadata": {},
   "source": [
    "**2**. 💅 <span style=\"color:blue\">(10 points)</span>  What kind of dependence on the parameters of call-spread option price do you observe? How does the price of it depend on the spot price $S$, volatility $\\sigma$ and time to expiration $T$? Why? Provide the intuition. "
   ]
  },
  {
   "cell_type": "markdown",
   "id": "15ab2720",
   "metadata": {},
   "source": [
    "YOUR ANSWER HERE"
   ]
  },
  {
   "cell_type": "markdown",
   "id": "ae728741",
   "metadata": {},
   "source": [
    "---"
   ]
  },
  {
   "cell_type": "markdown",
   "id": "dffad7e7",
   "metadata": {},
   "source": [
    "**4**. 💅 <span style=\"color:blue\">(10 points)</span> Replicate considered call-spread option using the portfolio rebalanced $n$ times (i.e. every $dt = T/n$ units of time). Using simulations, estimate the distribution of the replication error.\n",
    "\n",
    "\n",
    "    1) Generate m random trajectories of price process trajectories on the segment [0,t] with a step dt = T/n.\n",
    "\n",
    "    2) For each trajectory at each moment of time, find a replicating portfolio. Assume that the initial value of the portfolio is equal to the option price.\n",
    "\n",
    "    3) For each trajectory, calculate the difference between the value of the replicating portfolio at time T and the payout to be made on the option.\n",
    "\n",
    "    4) Display the distribution of the obtained differences in the form of a histogram.\n",
    "\n",
    "*Note: use, for instance, $m = 2^{10} - 1$ and $n$ = 123*. \n",
    "\n",
    "*Note: Remember that you are replicating your call-spread in Black-Scholes model. So, you may use any formulas available in this model (Black-Scholes option's price formula, greeks, etc.) .* "
   ]
  },
  {
   "cell_type": "code",
   "execution_count": 11,
   "id": "9cbc9fe8",
   "metadata": {},
   "outputs": [],
   "source": [
    "###  YOUR CODE HERE"
   ]
  },
  {
   "cell_type": "markdown",
   "id": "cf5c6ac4",
   "metadata": {},
   "source": [
    "---"
   ]
  },
  {
   "cell_type": "markdown",
   "id": "72d7189e",
   "metadata": {},
   "source": [
    "**5**. 🧠 <span style=\"color:blue\">(20 points)</span> Let $C_{call} (S_t, r, \\sigma, t) := C(t, S_t)$ be a call option price where $C(t, S)$ satisfies BS equation. Suppose that we sell a call option at $t=0$ at implied volatility $\\hat \\sigma$, i.e. we get the premium $C_{call}(S_0, r, \\hat \\sigma, 0)$. Hence the hedging strategy is such that the number of the risky asset held at time $t$ is $$H_t = \\dfrac{\\partial C}{\\partial S}.$$ Moreover, suppose that the true dynamics of asset price is **not** geometric Brownian motion $dS_t = r S_t dt + \\sigma S_t dW_t$, but is given by more general Ito process\n",
    "\n",
    "$$dS_t = \\alpha_t S_t dt + \\beta_t S_t dW_t. $$  "
   ]
  },
  {
   "cell_type": "markdown",
   "id": "c9913277",
   "metadata": {},
   "source": [
    "5.1 <span style=\"color:blue\">(2 points out of 20)</span> Using strategy $H_t$, write SDE for the value $X_t$ of hedging portfolio, assuming that we hold $\\dfrac{\\partial C}{\\partial S}$ units of risky asset and $X_t - \\dfrac{\\partial C}{\\partial S} S_t$ money in riskless one."
   ]
  },
  {
   "cell_type": "markdown",
   "id": "610737be",
   "metadata": {},
   "source": [
    "YOUR ANSWER"
   ]
  },
  {
   "cell_type": "markdown",
   "id": "4a350a6a",
   "metadata": {},
   "source": [
    "5.2 <span style=\"color:blue\">(2 points out of 20)</span> Assume that $Y_t = C(t, S_t)$. Applying Ito formula to $Y_t$, write SDE for $Y_t$.  "
   ]
  },
  {
   "cell_type": "markdown",
   "id": "28baa941",
   "metadata": {},
   "source": [
    "YOUR ANSWER"
   ]
  },
  {
   "cell_type": "markdown",
   "id": "70804a40",
   "metadata": {},
   "source": [
    "5.3 <span style=\"color:blue\">(6 points out of 20)</span> Using answers from 5.1 and 5.2 and BS equation, show that hedging error $Z_t = X_t - Y_t$ satisfies\n",
    "\n",
    "$$\\dfrac{d}{dt} Z_t = r Z_t + \\dfrac{1}{2} S_t^2 \\dfrac{\\partial^2 C}{\\partial S^2} \\left( \\hat \\sigma^2 - \\beta^2_t \\right).$$"
   ]
  },
  {
   "cell_type": "markdown",
   "id": "3aa26dd2",
   "metadata": {},
   "source": [
    "YOUR ANSWER"
   ]
  },
  {
   "cell_type": "markdown",
   "id": "f91f5b7c",
   "metadata": {},
   "source": [
    "5.4 <span style=\"color:blue\">(6 points out of 20)</span> Solve the equation for $Z_t$ above and show that \n",
    "\n",
    "$$Z_T = \\int_{0}^{T} e^{r(T-s)} \\dfrac{1}{2} S_t^2 \\dfrac{\\partial^2 C}{\\partial S^2} \\left( \\hat \\sigma^2 - \\beta_t^2 \\right) dt. $$"
   ]
  },
  {
   "cell_type": "markdown",
   "id": "7b19ef97",
   "metadata": {},
   "source": [
    "YOUR ANSWER"
   ]
  },
  {
   "cell_type": "markdown",
   "id": "c0aa27e3",
   "metadata": {},
   "source": [
    "5.5 <span style=\"color:blue\">(4 points out of 20)</span> Looking at the results above, is it possible to make a **profit with probability one** even though the true price model is substantially different from the assumed model (GBM)? What condition is sufficient for getting this profit? "
   ]
  },
  {
   "cell_type": "markdown",
   "id": "10359aab",
   "metadata": {},
   "source": [
    "YOUR ANSWER"
   ]
  },
  {
   "cell_type": "markdown",
   "id": "c37ad43a",
   "metadata": {},
   "source": [
    "---"
   ]
  },
  {
   "cell_type": "markdown",
   "id": "e0aa642f",
   "metadata": {},
   "source": [
    "---"
   ]
  },
  {
   "cell_type": "markdown",
   "id": "c3e05fe7",
   "metadata": {},
   "source": [
    "## Episode 2: Local volatility from Monte Carlo perspective 🧠 (50 points)"
   ]
  },
  {
   "cell_type": "markdown",
   "id": "eab3d8e9",
   "metadata": {},
   "source": [
    "Here you need to implement the Monte-Carlo pricing in Local Volatility model. For that purpose, you can use the standrad *Euler* discretization scheme:\n",
    "\n",
    "$$S_{t_{i + 1}} = S_{t_i} + \\sigma_{Dup}(t_i, S_{t_i}) \\Delta W_{t_i}.$$\n",
    "\n",
    "However, direct usage of such scheme may lead to negative values of the prices $S_t$. For that reason, you may apply the Euler scheme to $\\log(S_{t_i})$ and then finally put $S_{t_i} = e^{X_{t_i}}$. From Ito's formula, \n",
    "\n",
    "$$X_{t_{i + 1}} = X_{t_i} - \\frac{1}{2} \\sigma^2_{Dup}(t_i, e^{X_{t_i}}) \\Delta t_i+ \\sigma_{Dup}(t_i, e^{X_{t_i}}) \\Delta W_{t_i}.$$"
   ]
  },
  {
   "cell_type": "markdown",
   "id": "9dbe10ab",
   "metadata": {},
   "source": [
    "Notice that for correct implementation, you need a full Dupire volatility surface function. For that reason, you should construct a properly inter-and-extrapolated function $(t, s) \\to \\sigma_{IV}(t, s)$, obtained from real-market data. Then you may use the well-known formula converting the observed implied volatilites $\\sigma_{IV}(t, s)$ to Dupire local volatilies $\\sigma_{Dup}(t, s)$: \n",
    "\n",
    "$$ \\sigma_{Dup}(T, K) = \\sqrt{\\dfrac{\\frac{\\partial w}{\\partial T}}{1 - \\frac{y}{w} \\frac{\\partial w}{\\partial y} + \\frac{1}{4} ( -\\frac{1}{4} - \\frac{1}{w} + \\frac{y^2}{w^2}) (\\frac{\\partial w}{\\partial y})^2 + \\frac{1}{2} \\frac{\\partial^2 w}{\\partial y^2}}},$$\n",
    "\n",
    "\n",
    "where \n",
    "$w(K, T) = \\sigma^{2}_{IV}(K, T) \\cdot T$ is implied variance and $y = \\log(K / F_T)$ is forward log-moneyness. \n",
    "\n",
    "Use, for instace, spline interpolation in $(w, y)$ coordinates. You may use alo flat extrapolation, i.e. for a pair of arguments $(t, K)$, firstly make the following tranformation\n",
    "\n",
    "$$ t' = \\begin{cases} t_{\\min}, & t<t_{\\min} \\\\\n",
    "   t,        & t \\in[t_{\\min}, t_{\\max}],\\\\\n",
    "   t_{\\max}, & t > t_{\\max},\n",
    "        \\end{cases} \\qquad\n",
    "\n",
    "   s = \\begin{cases} s_{\\min}, & s<s_{\\min}, \\\\\n",
    "                     s, & s \\in[s_{\\min}, s_{\\max}], \\\\\n",
    "                     s_{\\\\max}, & s > s_{\\max},\n",
    "        \\end{cases} \\qquad\n",
    "$$\n",
    "\n",
    "where $t_{\\min}, t_{\\max}, s_{\\min}, s_{\\max}$ - minimum and maximum values of time to expiration and strikes variables from the market data and \n",
    "$$\\sigma^{new}_{Dup}(t,s) = \\sigma_{Dup}(t', s').$$\n",
    "   "
   ]
  },
  {
   "cell_type": "code",
   "execution_count": 2,
   "id": "c4a767d7",
   "metadata": {},
   "outputs": [],
   "source": [
    "s = 1.0    # spot price S_0\n",
    "r = 0.0    # zero interest rate"
   ]
  },
  {
   "cell_type": "markdown",
   "id": "de033ecb",
   "metadata": {},
   "source": [
    "**1**. 🧠 <span style=\"color:blue\">(10 points)</span> \n",
    "\n",
    "Extract the data from `data.txt`: strikes, times to expiration and call option prices. Compute the corresponding implied volatilties $\\sigma_{IV}(T_i, K_i)$, inter-and-extrapolate them to obtain the whole surface. Plot the calculated implied volatility curves for each time to marutiry $T_i$ and the whole implied volatility surface. "
   ]
  },
  {
   "cell_type": "code",
   "execution_count": 10,
   "id": "d1d619b0",
   "metadata": {},
   "outputs": [],
   "source": [
    "### YOUR CODE HERE\n",
    "### Use \"lets be rational\" implementation of implied volatility calculation from https://github.com/vollib/py_vollib"
   ]
  },
  {
   "cell_type": "markdown",
   "id": "9c97f181",
   "metadata": {},
   "source": [
    "**2**. 🧠 <span style=\"color:blue\">(20 points)</span> \n",
    "\n",
    "Write a function which evaluates a Dupire local volatility at given point, i.e. a function $(t, s) \\to \\sigma_{Dup}(t, s)$. Please note that it should return an \"adequate\" value for any input point $(t, s)$ from the considered ranges of strieks and times to expiration. Plot the obtained local volatility surface for a given grid of strikes and times to expiration. "
   ]
  },
  {
   "cell_type": "code",
   "execution_count": null,
   "id": "0d5afc14",
   "metadata": {},
   "outputs": [],
   "source": [
    "### YOUR CODE HERE\n",
    "\n",
    "### def local_voaltility(t: float, s: float) -> float:\n",
    "### ..."
   ]
  },
  {
   "cell_type": "markdown",
   "id": "e6ed41ed",
   "metadata": {},
   "source": [
    "**3**. 🧠 <span style=\"color:blue\">(20 points)</span> "
   ]
  },
  {
   "cell_type": "markdown",
   "id": "e38f1287",
   "metadata": {},
   "source": [
    "Implement a Monte-Carlo simulation calculator and price an option with time to expiration $T = 0.25$ for the range of strikes $K = \\{ 0.6, 0.7, 0.8, \\dots, 1.4\\}$. Your calculator should return a range of prices $\\{ V(T, K_i)\\}$ and implied volatilites $\\sigma_{IV}(T, K_i)$ (for each strike $K_i$), with an absolute error not greater than $1\\%$ in implied vols for every (almost every) strike $K_i$. Plot on one graph the prices obtained using Monte Carlo and the prices from the file. Also, plot on other graph the implied vols obtained using Monte Carlo and the implied vols obtained in question (1)."
   ]
  },
  {
   "cell_type": "code",
   "execution_count": 9,
   "id": "e31be0e3",
   "metadata": {},
   "outputs": [],
   "source": [
    "### YOUR CODE HERE"
   ]
  }
 ],
 "metadata": {
  "kernelspec": {
   "display_name": "Python 3 (ipykernel)",
   "language": "python",
   "name": "python3"
  },
  "language_info": {
   "codemirror_mode": {
    "name": "ipython",
    "version": 3
   },
   "file_extension": ".py",
   "mimetype": "text/x-python",
   "name": "python",
   "nbconvert_exporter": "python",
   "pygments_lexer": "ipython3",
   "version": "3.9.12"
  }
 },
 "nbformat": 4,
 "nbformat_minor": 5
}
